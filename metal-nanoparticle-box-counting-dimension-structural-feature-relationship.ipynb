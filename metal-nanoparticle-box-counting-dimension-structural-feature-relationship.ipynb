{
 "cells": [
  {
   "cell_type": "markdown",
   "id": "12332ab6-1b7b-43f8-93d9-37f39e6f1e27",
   "metadata": {},
   "source": [
    "# Analysis of the Box-Counting Dimension of Metal Nanoparticles\n",
    "\n",
    "This notebook contains the results from the analysis of the relationships between nanoparticle structural features and the box-counting dimensions, $D_B$, computed for metal (specifically the mono-, bi-, and tri-metallic combinations of gold, palladium, and platinum) nanoparticles. The $D_B$ values are computed using [Sphractal](https://github.com/jon-ting/sphractal), a Python package for the estimation of the fractal dimension of the surfaces of atomistic objects via box-counting approaches."
   ]
  },
  {
   "cell_type": "markdown",
   "id": "eeed9733-d1bb-410e-84d4-4a725a1948c6",
   "metadata": {
    "jp-MarkdownHeadingCollapsed": true
   },
   "source": [
    "## Outline\n",
    "\n",
    "[Notebook Setups](#setup)\n",
    "\n",
    "[Data Sets](#datasets)\n",
    "\n",
    "[Monometallic Nanoparticles](#mnps)\n",
    "\n",
    "[Bimetallic Nanoparticles](#bnps)\n",
    "\n",
    "[Trimetallic Nanoparticles](#tnps)"
   ]
  },
  {
   "cell_type": "markdown",
   "id": "8e974ec2-b3d8-44f9-99cc-c33606626f1a",
   "metadata": {
    "jp-MarkdownHeadingCollapsed": true
   },
   "source": [
    "<a id='setup'></a>\n",
    "## Notebook Setups"
   ]
  },
  {
   "cell_type": "code",
   "execution_count": null,
   "id": "dd368401-03ac-4478-95c5-c3cea770fef9",
   "metadata": {},
   "outputs": [],
   "source": [
    "%load_ext autoreload\n",
    "%autoreload 2"
   ]
  },
  {
   "cell_type": "code",
   "execution_count": null,
   "id": "ea7aeb46-aef4-497f-adc4-c02a5370b7f2",
   "metadata": {},
   "outputs": [],
   "source": [
    "# Import relevant libraries\n",
    "from os import chdir, listdir\n",
    "import pickle\n",
    "import warnings\n",
    "\n",
    "import matplotlib as mpl\n",
    "import matplotlib.pyplot as plt\n",
    "import numpy as np\n",
    "import pandas as pd\n",
    "import seaborn as sns\n",
    "import sklearn\n",
    "\n",
    "from natsort import natsorted\n",
    "from sklearn.decomposition import PCA\n",
    "from sklearn.manifold import TSNE\n",
    "\n",
    "# chdir('/scratch/q27/jt5911')  # To be modified accordingly\n",
    "from trainEvalModels import rmNullLowVarFeats, rmHighCorrFeats\n",
    "from corrAnalysis import *\n",
    "\n",
    "# Print package versions for reproducibility\n",
    "print('Versions of imported libraries:')\n",
    "print(f\"  matplotlib: {mpl.__version__}\")\n",
    "print(f\"  numpy: {np.__version__}\")\n",
    "print(f\"  pandas: {pd.__version__}\")\n",
    "print(f\"  seaborn: {sns.__version__}\")\n",
    "print(f\"  scikit-learn: {sklearn.__version__}\")"
   ]
  },
  {
   "cell_type": "markdown",
   "id": "ffcd8246-a48d-42d9-89c8-58f50e831fcc",
   "metadata": {},
   "source": [
    "Below are some general settings for plotting figures:"
   ]
  },
  {
   "cell_type": "code",
   "execution_count": null,
   "id": "7e8542b1-af0a-420c-9259-6a2c40a77e5c",
   "metadata": {
    "jupyter": {
     "source_hidden": true
    }
   },
   "outputs": [],
   "source": [
    "# Settings for figures\n",
    "sns.set_theme(context='paper', style='ticks', palette='colorblind', font='sans-serif', font_scale=1, color_codes=True, rc=None)  # Options are: {paper, notebook, talk, poster}\n",
    "figSize, DPI, fontSize, labelSize = (3.5, 2.5), None, 'medium', 'small'\n",
    "legendSize, lineWidth, markerSize = 'x-small', 1, 3\n",
    "SMALL_SIZE, MEDIUM_SIZE, LARGE_SIZE, TITLE_SIZE = 8, 10, 12, 14\n",
    "plt.rc('font', size=LARGE_SIZE)  # controls default text sizes\n",
    "plt.rc('axes', titlesize=TITLE_SIZE)  # fontsize of the axes title\n",
    "plt.rc('axes', labelsize=LARGE_SIZE)  # fontsize of the x and y labels\n",
    "plt.rc('xtick', labelsize=LARGE_SIZE)  # fontsize of the tick labels\n",
    "plt.rc('ytick', labelsize=LARGE_SIZE)  # fontsize of the tick labels\n",
    "plt.rc('legend', fontsize=LARGE_SIZE)  # legend fontsize\n",
    "plt.rc('figure', titlesize=TITLE_SIZE)  # fontsize of the figure title\n",
    "# PLOT_COLOURS = ['#212121', '#3F51B5', '#303F9F', '#FF5252', '#D32F2F']  # black, blue, deep blue, red, deep red from https://www.materialpalette.com\n",
    "# mpl.rcParams['axes.prop_cycle'] = mpl.cycler(color=['#303F9F', '#FF5252', '#D32F2F'])"
   ]
  },
  {
   "cell_type": "code",
   "execution_count": null,
   "id": "9a372f9c-df07-43ca-aefc-2fa635f710ba",
   "metadata": {
    "jupyter": {
     "source_hidden": true
    }
   },
   "outputs": [],
   "source": [
    "# Figure settings & Global variables for analysis of correlations between box-counting dimension with features\n",
    "sns.set_palette('deep')\n",
    "\n",
    "import warnings\n",
    "warnings.simplefilter(\"ignore\", UserWarning)\n",
    "warnings.simplefilter(\"ignore\", FutureWarning)\n",
    "\n",
    "RANDOM_SEED = 42\n",
    "X_CI = 'sd'\n",
    "CI = 95\n",
    "N_BOOT = 1000\n",
    "ORDER = 1\n",
    "LOG_X = False\n",
    "THRESH_PERC = 0.1"
   ]
  },
  {
   "cell_type": "markdown",
   "id": "e9d599c6-fc0c-4bed-851b-c750bd6ecadd",
   "metadata": {},
   "source": [
    "Some handy global variables:"
   ]
  },
  {
   "cell_type": "code",
   "execution_count": null,
   "id": "98fefd54-00a1-429f-9869-e0fe6c59bd7a",
   "metadata": {},
   "outputs": [],
   "source": [
    "VAR_THRESH = 0.0  # Value other than 0.0 is difficult to decide non-arbitrarily\n",
    "VERBOSE = True\n",
    "TRANS_FRAC = True\n",
    "FIG_DIR = 'figures'\n",
    "DATA_DIR = 'data'"
   ]
  },
  {
   "cell_type": "markdown",
   "id": "706e742b-cae8-4c9b-8c38-e372e2883a6f",
   "metadata": {},
   "source": [
    "Some handy general functions:"
   ]
  },
  {
   "cell_type": "code",
   "execution_count": null,
   "id": "cd0a3a53-f59e-4b07-afcb-be7ce24eebc1",
   "metadata": {},
   "outputs": [],
   "source": [
    "def readPickle(picklePath):\n",
    "    with open(picklePath, 'rb') as f: \n",
    "        df = pickle.load(f)\n",
    "    df['rangeLenVX'] = df.apply(lambda f: f['maxLenVX'] - f['minLenVX'], axis=1)\n",
    "    df['rangeLenEX'] = df.apply(lambda f: f['maxLenEX'] - f['minLenEX'], axis=1)\n",
    "    return df"
   ]
  },
  {
   "cell_type": "code",
   "execution_count": null,
   "id": "40d1e7b0-eb90-4004-9edc-970c1f49d4e3",
   "metadata": {},
   "outputs": [],
   "source": [
    "def loadCSV(csvFilePath, isMono=True, molLabels=True, ele='Au', transFrac=True):\n",
    "    \"\"\"\n",
    "    The monometallic dataset has different naming for certain features, hence why 'isMono' needs to be specified.\n",
    "    \"\"\"\n",
    "    featDF = pd.read_csv(csvFilePath, sep=',', header=0)\n",
    "    \n",
    "\n",
    "    if isMono:\n",
    "        featDF = featDF.rename(columns={'N_total': 'N_atom_total', 'N_bulk': 'N_atom_bulk', 'N_surface': 'N_atom_surface', \n",
    "                                        'Avg_total': 'TCN_avg', 'Avg_bulk': 'BCN_avg', 'Avg_surf': 'SCN_avg', \n",
    "                                        'Avg_bonds': 'BL_avg', 'Std_bonds': 'BL_std', 'Max_bonds': 'BL_max', 'Min_bonds': 'BL_min', 'N_bonds': 'BL_num',\n",
    "                                        'angle_avg': 'BA1_avg', 'angle_std': 'BA1_std'}, \n",
    "                               inplace=False)\n",
    "        eleSpecificFeats = [feat for feat in featDF.columns if 'CN_' in feat \n",
    "                                                            or 'BL_' in feat\n",
    "                                                            or 'BA1_' in feat]\n",
    "        # Rename and generate element-specific features to match bimetallic and trimetallic feature names\n",
    "        eleSpecNewFeatNamesDict = {}\n",
    "        for feat in eleSpecificFeats:\n",
    "            eleSpecNewFeatName = f\"MMM_{feat}\" if 'BA1_' in feat else f\"MM_{feat}\"\n",
    "            eleSpecNewFeatNamesDict[feat] = eleSpecNewFeatName\n",
    "            eleSpecNewFeatName = f\"{ele}{ele}{ele}_{feat}\" if 'BA1_' in feat else f\"{ele}{ele}_{feat}\"\n",
    "            featDF[eleSpecNewFeatName] = featDF[feat]\n",
    "        featDF = featDF.rename(columns=eleSpecNewFeatNamesDict, inplace=False)\n",
    "            \n",
    "        # Rename q6q6 features to match bimetallic and trimetallic q6q6 feature names\n",
    "        q6q6Feats = [feat for feat in featDF.columns if 'q6q6_T' in feat or 'q6q6_B' in feat or 'q6q6_S' in feat]\n",
    "        q6q6NewFeatNamesDict = {}\n",
    "        for feat in q6q6Feats:\n",
    "            q6q6NewFeatName = f\"{feat[:6]}_{feat[6:]}\"\n",
    "            q6q6NewFeatNamesDict[feat] = q6q6NewFeatName\n",
    "        featDF = featDF.rename(columns=q6q6NewFeatNamesDict, inplace=False)\n",
    "    \n",
    "    # Replace count features with percentages\n",
    "    if transFrac:\n",
    "        bulkAtomFeats = [feat for feat in featDF.columns if ('BCN' in feat and '_avg' not in feat)\n",
    "                                                         or ('BGCN' in feat and '_avg' not in feat)\n",
    "                                                         or ('q6q6_B' in feat and '_avg' not in feat)]\n",
    "        surfAtomFeats = [feat for feat in featDF.columns if 'N_Au' in feat or 'N_Pd' in feat or 'N_Pt' in feat\n",
    "                                                         or ('SCN' in feat and '_avg' not in feat)\n",
    "                                                         or ('SGCN' in feat and '_avg' not in feat)\n",
    "                                                         or ('SOCN' in feat and '_avg' not in feat)\n",
    "                                                         or ('SOGCN' in feat and '_avg' not in feat)\n",
    "                                                         or ('q6q6_S' in feat and '_avg' not in feat)\n",
    "                                                         or 'Curve' in feat\n",
    "                                                         or 'S_100' in feat\n",
    "                                                         or 'S_111' in feat\n",
    "                                                         or 'S_110' in feat\n",
    "                                                         or 'S_311' in feat]\n",
    "        totAtomFeats = [feat for feat in featDF.columns if 'N_Au' in feat or 'N_Pd' in feat or 'N_Pt' in feat\n",
    "                                                        or ('TCN' in feat and '_avg' not in feat)\n",
    "                                                        or ('TGCN' in feat and '_avg' not in feat)\n",
    "                                                        or ('q6q6_T' in feat and '_avg' not in feat)\n",
    "                                                        or 'FCC' in feat \n",
    "                                                        or 'HCP' in feat\n",
    "                                                        or 'ICOS' in feat\n",
    "                                                        or 'DECA' in feat]\n",
    "        numBulkAtomFeat = featDF['N_atom_bulk']\n",
    "        numSurfAtomFeat = featDF['N_atom_surface']\n",
    "        numTotalAtomFeat = featDF['N_atom_total']\n",
    "        with warnings.catch_warnings():\n",
    "            warnings.simplefilter(\"ignore\")\n",
    "            for feat in bulkAtomFeats:\n",
    "                featDF[f\"Frac_{feat}\"] = featDF[feat] / numBulkAtomFeat\n",
    "            for feat in surfAtomFeats:\n",
    "                if 'N_Au' in feat or 'N_Pd' in feat or 'N_Pt' in feat:\n",
    "                    featDF[f\"Frac_{feat}_Surf\"] = featDF[feat] / numSurfAtomFeat\n",
    "                else:\n",
    "                    featDF[f\"Frac_{feat}\"] = featDF[feat] / numSurfAtomFeat\n",
    "            for feat in totAtomFeats:\n",
    "                featDF[f\"Frac_{feat}\"] = featDF[feat] / numTotalAtomFeat\n",
    "        # featDF.drop(bulkAtomFeats, axis=1, inplace=True)\n",
    "        # featDF.drop(surfAtomFeats, axis=1, inplace=True)\n",
    "        # featDF.drop(totAtomFeats, axis=1, inplace=True)\n",
    "\n",
    "    for feat  in featDF.columns.tolist():\n",
    "        if 'Vol' in feat:  # Turn the units of volumes from cubic angstroms into cubic metres\n",
    "            featDF[feat] = featDF[feat].apply(lambda x: 1e-30 / x)\n",
    "        elif 'R_' in feat:  # Turn the units of radii into nanometres\n",
    "            featDF[feat] = featDF[feat].apply(lambda x: x / 10)\n",
    "        if feat == 'R_avg':  # Compute average diameter (nm)\n",
    "            diameterFeat = featDF[feat].rename(feat.replace('R_avg', 'D_avg')) * 2\n",
    "            featDF = pd.concat([featDF, diameterFeat], axis=1)\n",
    "    labelFeats = [feat for feat in featDF.columns if 'Surf_defects' in feat or 'Surf_micros' in feat or 'Surf_facets' in feat or '_E' in feat]\n",
    "    labelDF = featDF[labelFeats]\n",
    "    featDF.drop(['ID'] + labelFeats, axis=1, inplace=True)\n",
    "    return featDF, labelDF"
   ]
  },
  {
   "cell_type": "code",
   "execution_count": null,
   "id": "35c7b1eb-fec2-4447-b479-11412f9850c8",
   "metadata": {
    "scrolled": true
   },
   "outputs": [],
   "source": [
    "def countNumHypothesis(df, feats, splitFeat='Elements'):\n",
    "    numHypothesis = 0\n",
    "    for feat in feats:\n",
    "        print(f\"Feature: {feat}\")\n",
    "        try:\n",
    "            df[feat]\n",
    "            for category in df[splitFeat].unique():\n",
    "                catDF = df.loc[:, [feat, 'DBoxEX']][df[splitFeat] == category].dropna(axis=0, how='any', subset=feat)\n",
    "                if len(catDF) == 0:\n",
    "                    print(f\"    Category {category} doesn't have entry!\")\n",
    "                    continue\n",
    "                numHypothesis += 1\n",
    "        except KeyError:\n",
    "            print('  Feature not found!')\n",
    "            continue\n",
    "    print(f\"{numHypothesis} hypotheses, Bonferroni corrected p-value: {0.05 / numHypothesis:.6f}\")\n",
    "    return numHypothesis"
   ]
  },
  {
   "cell_type": "markdown",
   "id": "bf913a6c-1bb2-45b8-804f-e70848605808",
   "metadata": {},
   "source": [
    "<a id='datasets'></a>\n",
    "## Data Sets\n",
    "\n",
    "The data sets used here are atomic coordinates of simulated metal nanoparticles generated for studies on the impact of polydispersivity on the properties of metal nanoparticle electrocatalyst ensembles. All data sets are hosted at [CSIRO Data Access Portal](https://data.csiro.au/collection/). The links are provided below:\n",
    "- [gold](https://data.csiro.au/collection/csiro:40669)\n",
    "- [palladium](https://data.csiro.au/collection/csiro:40618)\n",
    "- [platinum](https://data.csiro.au/collection/csiro:36491)\n",
    "- [gold-palladium](https://data.csiro.au/collection/csiro:58177) and [palladium-gold](https://data.csiro.au/collection/csiro:58481)\n",
    "- [gold-platinum](https://data.csiro.au/collection/csiro:58477) and [platinum-gold](https://data.csiro.au/collection/csiro:58484)\n",
    "- [palladium-platinum](https://data.csiro.au/collection/csiro:58483) and [platinum-palladium](https://data.csiro.au/collection/csiro:58487)\n",
    "- [gold-palladium-platinum](https://data.csiro.au/collection/csiro:58474)\n",
    "\n",
    "The bimetallic nanoparticle data sets are much larger (in the order of hundred thousands) than the monometallic (in the order of thousands) and the trimetallic (in the order of ten thousands). Hence, data reduction was conducted on these data sets prior to these studies."
   ]
  },
  {
   "cell_type": "markdown",
   "id": "09c13ea6-eb78-46e1-b8a4-0353a1d52c3f",
   "metadata": {},
   "source": [
    "<a id='mnps'></a>\n",
    "## Monometallic Nanoparticles\n",
    "\n",
    "Here we process the data for the simulated monometallic nanoparticles (either gold, palladium, or platinum)."
   ]
  },
  {
   "cell_type": "markdown",
   "id": "7478e22c-c8d3-4d3f-99ef-09fa3a6518e6",
   "metadata": {
    "jp-MarkdownHeadingCollapsed": true
   },
   "source": [
    "### Data Loading"
   ]
  },
  {
   "cell_type": "code",
   "execution_count": null,
   "id": "01818ce0-11aa-4ad1-90b2-eda3868902bc",
   "metadata": {
    "scrolled": true
   },
   "outputs": [],
   "source": [
    "# Load features\n",
    "# Gold nanoparticle data set doesn't contain these labels: {Surf_defects_*, Surf_micros_*, Surf_facets_*}\n",
    "AuFeatsDF, AuOriLabelsDF = loadCSV('data/Au_nanoparticle_dataset.csv', isMono=True, molLabels=False, ele='Au', transFrac=TRANS_FRAC)  \n",
    "PdFeatsDF, PdOriLabelsDF = loadCSV('data/Pd_nanoparticle_dataset.csv', isMono=True, molLabels=True, ele='Pd', transFrac=TRANS_FRAC)\n",
    "PtFeatsDF, PtOriLabelsDF = loadCSV('data/Pt_nanoparticle_dataset.csv', isMono=True, molLabels=True, ele='Pt', transFrac=TRANS_FRAC)\n",
    "MNPFeatsDF = pd.concat([AuFeatsDF, PdFeatsDF, PtFeatsDF], axis=0)\n",
    "MNPFeatsDF = MNPFeatsDF.reset_index(inplace=False)\n",
    "MNPFeatsDF = MNPFeatsDF.drop(['index'], axis=1, inplace=False)\n",
    "\n",
    "# # Load labels and extract useful label column(s)\n",
    "feats = ['DBoxEX']  # 'R2EX', 'minLenEX', 'maxLenEX', 'rangeLenEX', 'lowCIEX', 'upCIEX'\n",
    "AuLabelsDF = readPickle('data/allAuNPsEX.pickle')\n",
    "AuLabelDF = AuLabelsDF[feats]\n",
    "AuLabelDF = AuLabelDF.reset_index(inplace=False)\n",
    "AuLabelDF = AuLabelDF.drop(['index'], axis=1, inplace=False)\n",
    "PdLabelsDF = readPickle('data/allPdNPsEX.pickle')\n",
    "PdLabelDF = PdLabelsDF[feats]\n",
    "PdLabelDF = PdLabelDF.reset_index(inplace=False)\n",
    "PdLabelDF = PdLabelDF.drop(['index'], axis=1, inplace=False)\n",
    "PtLabelsDF = readPickle('data/allPtNPsEX.pickle')\n",
    "PtLabelDF = PtLabelsDF[feats]\n",
    "PtLabelDF = PtLabelDF.reset_index(inplace=False)\n",
    "PtLabelDF = PtLabelDF.drop(['index'], axis=1, inplace=False)\n",
    "MNPLabelDF = pd.concat([AuLabelDF, PdLabelDF, PtLabelDF], axis=0)\n",
    "MNPLabelDF = MNPLabelDF.reset_index(inplace=False)\n",
    "MNPLabelDF = MNPLabelDF.drop(['index'], axis=1, inplace=False)\n",
    "\n",
    "print(f\"Default labels for Au nanoparticle dataset: {AuOriLabelsDF.columns.tolist()}\\n\")\n",
    "print(f\"Default labels for Pd nanoparticle dataset: {PdOriLabelsDF.columns.tolist()}\\n\")\n",
    "print(f\"Default labels for Pt nanoparticle dataset: {PtOriLabelsDF.columns.tolist()}\\n\")\n",
    "print(f\"Current label for all datasets: {MNPLabelDF.columns[-1]}\\n\")\n",
    "\n",
    "# Not using the original labels in this notebook, delete variables to free up memory\n",
    "del AuOriLabelsDF, PdOriLabelsDF, PtOriLabelsDF, AuLabelsDF, PdLabelsDF, PtLabelsDF"
   ]
  },
  {
   "cell_type": "code",
   "execution_count": null,
   "id": "dd19d086-27d8-4182-abdf-5cb1b750f29f",
   "metadata": {
    "jupyter": {
     "source_hidden": true
    }
   },
   "outputs": [],
   "source": [
    "# Identification of the IDs of Pd NPs within a certain range of size (number of atoms) for bond angle deviation from FCC structure investigation\n",
    "fcc = PdFeatsDF['Frac_FCC'][PdFeatsDF['N_atom_total'] > 900][PdFeatsDF['N_atom_total'] < 1000]  # Limit the size range of Pd NP\n",
    "print(fcc.index[np.where(fcc == fcc.max())[0][0]])  # Pd NP with the highest fraction of atoms in FCC packing\n",
    "print(fcc.index[np.where(fcc == fcc.min())[0][0]])  # Pd NP with the lowest fraction of atoms in FCC packing"
   ]
  },
  {
   "cell_type": "markdown",
   "id": "c6afdf12-7639-4c88-909d-0775cea27f5c",
   "metadata": {
    "jp-MarkdownHeadingCollapsed": true
   },
   "source": [
    "### Data Processing"
   ]
  },
  {
   "cell_type": "markdown",
   "id": "06ee78d7-6bc1-4cd4-8512-eaf91e99e079",
   "metadata": {
    "jp-MarkdownHeadingCollapsed": true
   },
   "source": [
    "##### Feature Selection"
   ]
  },
  {
   "cell_type": "code",
   "execution_count": null,
   "id": "e4c6d61e-a621-43ca-b0d8-53640dbba7ac",
   "metadata": {
    "scrolled": true
   },
   "outputs": [],
   "source": [
    "# Remove features with zero variance and the second feature of each highly correlated feature pairs\n",
    "CORR_THRESH = 1.0\n",
    "print('Au nanoparticles:')\n",
    "AuFeatsNoLowVarDF = rmNullLowVarFeats(featsDF=AuFeatsDF, rmNull=False, varThresh=VAR_THRESH, verbose=VERBOSE)\n",
    "AuFeatsNoLowVarHighCorrDF = rmHighCorrFeats(featsDF=AuFeatsNoLowVarDF, corrThresh=CORR_THRESH, verbose=VERBOSE)\n",
    "print('Pd nanoparticles:')\n",
    "PdFeatsNoLowVarDF = rmNullLowVarFeats(featsDF=PdFeatsDF, rmNull=False, varThresh=VAR_THRESH, verbose=VERBOSE)\n",
    "PdFeatsNoLowVarHighCorrDF = rmHighCorrFeats(featsDF=PdFeatsNoLowVarDF, corrThresh=CORR_THRESH, verbose=VERBOSE)\n",
    "print('Pt nanoparticles:')\n",
    "PtFeatsNoLowVarDF = rmNullLowVarFeats(featsDF=PtFeatsDF, rmNull=False, varThresh=VAR_THRESH, verbose=VERBOSE)\n",
    "PtFeatsNoLowVarHighCorrDF = rmHighCorrFeats(featsDF=PtFeatsNoLowVarDF, corrThresh=CORR_THRESH, verbose=VERBOSE)\n",
    "print('All monometallic nanoparticles:')\n",
    "MNPFeatsNoLowVarDF = rmNullLowVarFeats(featsDF=MNPFeatsDF, rmNull=False, varThresh=VAR_THRESH, verbose=VERBOSE)\n",
    "MNPFeatsNoLowVarHighCorrDF = rmHighCorrFeats(featsDF=MNPFeatsNoLowVarDF, corrThresh=CORR_THRESH, verbose=VERBOSE)\n",
    "\n",
    "del AuFeatsNoLowVarDF, PdFeatsNoLowVarDF, PtFeatsNoLowVarDF, MNPFeatsNoLowVarDF"
   ]
  },
  {
   "cell_type": "markdown",
   "id": "e85ed464-ea7d-4b6b-b09a-abd07db0ec5c",
   "metadata": {
    "jp-MarkdownHeadingCollapsed": true
   },
   "source": [
    "##### Data Analysis"
   ]
  },
  {
   "cell_type": "code",
   "execution_count": null,
   "id": "cd954d05-4e54-44cc-8f13-9b814bc2c72a",
   "metadata": {
    "scrolled": true
   },
   "outputs": [],
   "source": [
    "# Correlation heatmap\n",
    "fig, ax = plt.subplots(figsize=(10, 8), dpi=DPI)\n",
    "sns.set(font_scale=1.4)\n",
    "g = sns.heatmap(AuFeatsNoLowVarHighCorrDF.corr(), ax=ax)\n",
    "plt.savefig(f\"{FIG_DIR}/AuNoC{int(CORR_THRESH * 100)}CorrHeatmap.png\", bbox_inches='tight')\n",
    "\n",
    "fig, ax = plt.subplots(figsize=(10, 8), dpi=DPI)\n",
    "sns.set(font_scale=1.4)\n",
    "g = sns.heatmap(PdFeatsNoLowVarHighCorrDF.corr(), ax=ax)\n",
    "plt.savefig(f\"{FIG_DIR}/PdNoC{int(CORR_THRESH * 100)}CorrHeatmap.png\", bbox_inches='tight')\n",
    "\n",
    "fig, ax = plt.subplots(figsize=(10, 8), dpi=DPI)\n",
    "sns.set(font_scale=1.4)\n",
    "g = sns.heatmap(PtFeatsNoLowVarHighCorrDF.corr(), ax=ax)\n",
    "plt.savefig(f\"{FIG_DIR}/PtNoC{int(CORR_THRESH * 100)}CorrHeatmap.png\", bbox_inches='tight')\n",
    "\n",
    "fig, ax = plt.subplots(figsize=(10, 8), dpi=DPI)\n",
    "sns.set(font_scale=1.4)\n",
    "g = sns.heatmap(MNPFeatsNoLowVarHighCorrDF.corr(), ax=ax)\n",
    "plt.savefig(f\"{FIG_DIR}/MNPNoC{int(CORR_THRESH * 100)}CorrHeatmap.png\", bbox_inches='tight')"
   ]
  },
  {
   "cell_type": "code",
   "execution_count": null,
   "id": "944bba2d-4056-4f91-9586-bc96aae1ad13",
   "metadata": {
    "scrolled": true
   },
   "outputs": [],
   "source": [
    "# Merge labels with features\n",
    "print('Au nanoparticles:')\n",
    "AuNPDF = pd.concat([AuFeatsNoLowVarHighCorrDF, AuLabelDF], axis=1)\n",
    "display(AuNPDF)\n",
    "display(AuNPDF.describe())\n",
    "del AuFeatsNoLowVarHighCorrDF\n",
    "\n",
    "print('Pd nanoparticles:')\n",
    "PdNPDF = pd.concat([PdFeatsNoLowVarHighCorrDF, PdLabelDF], axis=1)\n",
    "display(PdNPDF)\n",
    "display(PdNPDF.describe())\n",
    "del PdFeatsNoLowVarHighCorrDF\n",
    "\n",
    "print('Pt nanoparticles:')\n",
    "PtNPDF = pd.concat([PtFeatsNoLowVarHighCorrDF, PtLabelDF], axis=1)\n",
    "display(PtNPDF)\n",
    "display(PtNPDF.describe())\n",
    "del PtFeatsNoLowVarHighCorrDF\n",
    "\n",
    "print('All monometallic nanoparticles:')\n",
    "MNPDF = pd.concat([MNPFeatsNoLowVarHighCorrDF, MNPLabelDF], axis=1)\n",
    "display(MNPDF)\n",
    "display(MNPDF.describe())\n",
    "del MNPFeatsNoLowVarHighCorrDF"
   ]
  },
  {
   "cell_type": "code",
   "execution_count": null,
   "id": "a689831a-2192-427b-932a-a2000ef0cabc",
   "metadata": {
    "jupyter": {
     "source_hidden": true
    },
    "scrolled": true
   },
   "outputs": [],
   "source": [
    "# Correlation of Each Feature with Box-Counting Dimension Obtained from Exact Surface Representation\n",
    "# for col in AuNPDF.columns:\n",
    "#     g = sns.regplot(data=AuNPDF, x=col, y='DBoxEX')\n",
    "#     g.figure.set_size_inches(4, 3)\n",
    "#     plt.show()\n",
    "\n",
    "# for col in PdNPDF.columns:\n",
    "#     g = sns.regplot(data=PdNPDF, x=col, y='DBoxEX')\n",
    "#     g.figure.set_size_inches(4, 3)\n",
    "#     plt.show()\n",
    "\n",
    "# for col in PtNPDF.columns:\n",
    "#     g = sns.regplot(data=PtNPDF, x=col, y='DBoxEX')\n",
    "#     g.figure.set_size_inches(4, 3)\n",
    "#     plt.show()\n",
    "\n",
    "# for col in MNPDF.columns:\n",
    "#     g = sns.regplot(data=MNPDF, x=col, y='DBoxEX')\n",
    "#     g.figure.set_size_inches(4, 3)\n",
    "#     plt.show()"
   ]
  },
  {
   "cell_type": "code",
   "execution_count": null,
   "id": "c9dcfe94-1046-4869-83a2-6aea46cf0bfd",
   "metadata": {
    "scrolled": true
   },
   "outputs": [],
   "source": [
    "# Top Correlated Features with Box-Counting Dimensions\n",
    "sns.set_theme(context='paper', style='ticks', palette='colorblind', font='sans-serif', font_scale=1, color_codes=True, rc=None)\n",
    "\n",
    "AuHighCorrFeats = AuNPDF.corr()['DBoxEX'].sort_values(ascending=False, key=abs)\n",
    "PdHighCorrFeats = PdNPDF.corr()['DBoxEX'].sort_values(ascending=False, key=abs)\n",
    "PtHighCorrFeats = PtNPDF.corr()['DBoxEX'].sort_values(ascending=False, key=abs)\n",
    "MNPHighCorrFeats = MNPDF.corr()['DBoxEX'].sort_values(ascending=False, key=abs)\n",
    "\n",
    "# All features\n",
    "# numFeats = None\n",
    "# plotFeatsBCDcorrBar(featsDBoxCorrDF=AuHighCorrFeats, NPname='Au', numFeats=numFeats, corrThresh=CORR_THRESH)\n",
    "# plotFeatsBCDcorrBar(featsDBoxCorrDF=PdHighCorrFeats, NPname='Pd', numFeats=numFeats, corrThresh=CORR_THRESH)\n",
    "# plotFeatsBCDcorrBar(featsDBoxCorrDF=PtHighCorrFeats, NPname='Pt', numFeats=numFeats, corrThresh=CORR_THRESH)\n",
    "# plotFeatsBCDcorrBar(featsDBoxCorrDF=MNPHighCorrFeats, NPname='MNP', numFeats=numFeats, corrThresh=CORR_THRESH)\n",
    "\n",
    "# Top 20 features\n",
    "numFeats = 20\n",
    "plotFeatsBCDcorrBar(featsDBoxCorrDF=AuHighCorrFeats, NPname='Au', numFeats=numFeats, corrThresh=CORR_THRESH)\n",
    "plotFeatsBCDcorrBar(featsDBoxCorrDF=PdHighCorrFeats, NPname='Pd', numFeats=numFeats, corrThresh=CORR_THRESH)\n",
    "plotFeatsBCDcorrBar(featsDBoxCorrDF=PtHighCorrFeats, NPname='Pt', numFeats=numFeats, corrThresh=CORR_THRESH)\n",
    "plotFeatsBCDcorrBar(featsDBoxCorrDF=MNPHighCorrFeats, NPname='MNP', numFeats=numFeats, corrThresh=CORR_THRESH)"
   ]
  },
  {
   "cell_type": "markdown",
   "id": "9699db41-1028-475f-8d0a-b27a792a4914",
   "metadata": {
    "jp-MarkdownHeadingCollapsed": true
   },
   "source": [
    "##### Data Storage"
   ]
  },
  {
   "cell_type": "code",
   "execution_count": null,
   "id": "6fef3ce3-3cbf-4e92-b409-792a139e2f0c",
   "metadata": {},
   "outputs": [],
   "source": [
    "with open(f\"{DATA_DIR}/processedMNPdataNoC{int(CORR_THRESH * 100)}.pickle\", 'wb') as f:\n",
    "    pickle.dump([AuNPDF, PdNPDF, PtNPDF, MNPDF], f)\n",
    "\n",
    "del AuNPDF, AuHighCorrFeats\n",
    "del PdNPDF, PdHighCorrFeats\n",
    "del PtNPDF, PtHighCorrFeats\n",
    "del MNPDF, MNPHighCorrFeats"
   ]
  },
  {
   "cell_type": "markdown",
   "id": "997a4472-9330-4bfa-bd90-15bee2398a6b",
   "metadata": {
    "jp-MarkdownHeadingCollapsed": true
   },
   "source": [
    "### Correlations between Box-Counting Dimension and Other Features"
   ]
  },
  {
   "cell_type": "code",
   "execution_count": null,
   "id": "6ff6444b-7e4b-4820-b1fc-8cb21f957d06",
   "metadata": {},
   "outputs": [],
   "source": [
    "# Create master dataframe\n",
    "AuLabelDF['Elements'] = 'Au'\n",
    "PdLabelDF['Elements'] = 'Pd'\n",
    "PtLabelDF['Elements'] = 'Pt'\n",
    "MNPLabelDF = pd.concat([AuLabelDF, PdLabelDF, PtLabelDF], axis=0)\n",
    "MNPLabelDF = MNPLabelDF.reset_index(inplace=False)\n",
    "MNPLabelDF = MNPLabelDF.drop(['index'], axis=1, inplace=False)\n",
    "MNPDF = pd.concat([MNPFeatsNoLowVarHighCorrDF, MNPLabelDF], axis=1)\n",
    "MNPDF = MNPDF.rename({'q6q6_avg_total': 'q6q6_T_avg', 'q6q6_avg_bulk': 'q6q6_B_avg', 'q6q6_avg_surf': 'q6q6_S_avg'}, axis=1)"
   ]
  },
  {
   "cell_type": "code",
   "execution_count": null,
   "id": "c14e8343-20c5-4135-abe9-f7dd625e4e02",
   "metadata": {
    "scrolled": true
   },
   "outputs": [],
   "source": [
    "# Distribution of box-counting dimension\n",
    "plotBCDhist(df=MNPDF, splitFeat='Elements', xLims=(2.00, 2.65), threshLines=True)\n",
    "\n",
    "# Statistics\n",
    "sigDiffMNPDF = compareRoughSmoothStats(df=MNPDF)\n",
    "sigDiffMNPDF"
   ]
  },
  {
   "cell_type": "code",
   "execution_count": null,
   "id": "cdbd3872-43bc-41aa-869c-6e005bef02a6",
   "metadata": {},
   "outputs": [],
   "source": [
    "# Group features\n",
    "processFeats = ['T', 'tau', 'time']\n",
    "npStatsFeats = ['N_atom_total', 'N_atom_bulk', 'N_atom_surface', 'Volume',\n",
    "                'R_min', 'R_max', 'R_diff', 'R_avg', 'R_std', 'R_skew', 'R_kurt', 'D_avg']\n",
    "facetFeats = ['S_100', 'S_111', 'S_110', 'S_311', 'Frac_S_100', 'Frac_S_111', 'Frac_S_110', 'Frac_S_311']\n",
    "curvFeats = [feat for feat in MNPDF.columns if 'Curve' in feat]\n",
    "tcnFeats = [feat for feat in MNPDF.columns if 'MM_TCN' in feat]\n",
    "bcnFeats = [feat for feat in MNPDF.columns if 'MM_BCN' in feat]\n",
    "scnFeats = [feat for feat in MNPDF.columns if 'MM_SCN' in feat]\n",
    "blFeats = [feat for feat in MNPDF.columns if 'MM_BL' in feat]\n",
    "baFeats = [feat for feat in MNPDF.columns if 'MMM_BA' in feat]\n",
    "crysFeats = ['FCC', 'HCP', 'ICOS', 'DECA', 'Frac_FCC', 'Frac_HCP', 'Frac_ICOS', 'Frac_DECA']\n",
    "q6q6tFeats = [feat for feat in MNPDF.columns if 'q6q6_T' in feat]\n",
    "q6q6bFeats = [feat for feat in MNPDF.columns if 'q6q6_B' in feat]\n",
    "q6q6sFeats = [feat for feat in MNPDF.columns if 'q6q6_S' in feat]"
   ]
  },
  {
   "cell_type": "code",
   "execution_count": null,
   "id": "520f5614-2da9-4794-930c-02dd6cafe919",
   "metadata": {
    "scrolled": true
   },
   "outputs": [],
   "source": [
    "# Correlations between box-counting dimension and features\n",
    "plotFeatsBCDcorr(df=MNPDF, feats=processFeats, figNameAppend='MNP', sciNotation=['tau'], titleName='Elements', showPlot=True)\n",
    "plotFeatsBCDcorr(df=MNPDF, feats=npStatsFeats, figNameAppend='MNP', sciNotation=['N_atom_total', 'N_atom_bulk', 'N_atom_surface'], \n",
    "                 titleName='Elements', showPlot=True)\n",
    "plotFeatsBCDcorr(df=MNPDF, feats=facetFeats, figNameAppend='MNP', sciNotation=['S_100', 'S_111', 'S_110', 'S_311'], \n",
    "                 titleName='Elements', showPlot=True)\n",
    "plotFeatsBCDcorr(df=MNPDF, feats=curvFeats, figNameAppend='MNP', sciNotation=curvFeats, titleName='Elements', showPlot=True)\n",
    "plotFeatsBCDcorr(df=MNPDF, feats=tcnFeats, figNameAppend='MNP', titleName='Elements', showPlot=True)\n",
    "plotFeatsBCDcorr(df=MNPDF, feats=bcnFeats, figNameAppend='MNP', titleName='Elements', showPlot=True)\n",
    "plotFeatsBCDcorr(df=MNPDF, feats=scnFeats, figNameAppend='MNP', titleName='Elements', showPlot=True)\n",
    "plotFeatsBCDcorr(df=MNPDF, feats=blFeats, figNameAppend='MNP', titleName='Elements', showPlot=True)\n",
    "plotFeatsBCDcorr(df=MNPDF, feats=baFeats, figNameAppend='MNP', titleName='Elements', showPlot=True)\n",
    "plotFeatsBCDcorr(df=MNPDF, feats=crysFeats, figNameAppend='MNP', titleName='Elements', sciNotation=['Frac_ICOS'], showPlot=True)\n",
    "plotFeatsBCDcorr(df=MNPDF, feats=q6q6tFeats, figNameAppend='MNP', titleName='Elements', showPlot=True)\n",
    "plotFeatsBCDcorr(df=MNPDF, feats=q6q6bFeats, figNameAppend='MNP', titleName='Elements', showPlot=True)\n",
    "plotFeatsBCDcorr(df=MNPDF, feats=q6q6sFeats, figNameAppend='MNP', titleName='Elements', showPlot=True)"
   ]
  },
  {
   "cell_type": "code",
   "execution_count": null,
   "id": "82690582-8ff5-44f3-bfbf-b4b865015c8b",
   "metadata": {
    "scrolled": true
   },
   "outputs": [],
   "source": [
    "# Calculate the number of hypotheses for Bonferroni correction\n",
    "feats = processFeats + npStatsFeats + facetFeats + curvFeats + tcnFeats + bcnFeats + scnFeats + blFeats + baFeats + crysFeats + q6q6tFeats + q6q6bFeats + q6q6sFeats\n",
    "splitFeat = 'Elements'\n",
    "numHypothesis = countNumHypothesis(df=MNPDF, feats=feats, splitFeat='Elements')"
   ]
  },
  {
   "cell_type": "code",
   "execution_count": null,
   "id": "1419b443-a484-44ba-b0f5-2960f5fd8a21",
   "metadata": {
    "scrolled": true
   },
   "outputs": [],
   "source": [
    "mis = calcMIs(df=MNPDF, feats=processFeats, splitFeat='Elements', numHypothesis=numHypothesis)\n",
    "mis = calcMIs(df=MNPDF, feats=npStatsFeats, splitFeat='Elements', numHypothesis=numHypothesis)\n",
    "mis = calcMIs(df=MNPDF, feats=facetFeats, splitFeat='Elements', numHypothesis=numHypothesis)\n",
    "mis = calcMIs(df=MNPDF, feats=curvFeats, splitFeat='Elements', numHypothesis=numHypothesis)\n",
    "mis = calcMIs(df=MNPDF, feats=tcnFeats, splitFeat='Elements', numHypothesis=numHypothesis)\n",
    "mis = calcMIs(df=MNPDF, feats=bcnFeats, splitFeat='Elements', numHypothesis=numHypothesis)\n",
    "mis = calcMIs(df=MNPDF, feats=scnFeats, splitFeat='Elements', numHypothesis=numHypothesis)\n",
    "mis = calcMIs(df=MNPDF, feats=blFeats, splitFeat='Elements', numHypothesis=numHypothesis)\n",
    "mis = calcMIs(df=MNPDF, feats=baFeats, splitFeat='Elements', numHypothesis=numHypothesis)\n",
    "mis = calcMIs(df=MNPDF, feats=crysFeats, splitFeat='Elements', numHypothesis=numHypothesis)\n",
    "mis = calcMIs(df=MNPDF, feats=q6q6tFeats, splitFeat='Elements', numHypothesis=numHypothesis)\n",
    "mis = calcMIs(df=MNPDF, feats=q6q6bFeats, splitFeat='Elements', numHypothesis=numHypothesis)\n",
    "mis = calcMIs(df=MNPDF, feats=q6q6sFeats, splitFeat='Elements', numHypothesis=numHypothesis)"
   ]
  },
  {
   "cell_type": "markdown",
   "id": "f9b39c82-3cbb-4905-8662-d568a5ede72a",
   "metadata": {
    "jp-MarkdownHeadingCollapsed": true
   },
   "source": [
    "<a id='bnps'></a>\n",
    "## Bimetallic Nanoparticles\n",
    "\n",
    "Here we process the data for the simulated bimetallic nanoparticles (consisting of combinations of gold, palladium, and platinum)."
   ]
  },
  {
   "cell_type": "markdown",
   "id": "d2138311-13e7-47ae-b4ec-fd1c7dda982c",
   "metadata": {
    "jp-MarkdownHeadingCollapsed": true
   },
   "source": [
    "### Data Loading"
   ]
  },
  {
   "cell_type": "code",
   "execution_count": null,
   "id": "b5eb6a4a-d1b3-4b26-95c0-f4621b199df4",
   "metadata": {},
   "outputs": [],
   "source": [
    "# Load features\n",
    "# For AuPt nanoparticle data set, 'confID' was manually changed to 'ID' for consistency with other datasets to avoid errors\n",
    "AuPdFeats, AuPdOriLabels = loadCSV('data/AuPd_nanoparticle_nonredundant_dataset.csv', isMono=False, molLabels=True, transFrac=TRANS_FRAC)\n",
    "AuPtFeats, AuPtOriLabels = loadCSV('data/AuPt_nanoparticle_nonredundant_dataset.csv', isMono=False, molLabels=True, transFrac=TRANS_FRAC)  \n",
    "PdAuFeats, PdAuOriLabels = loadCSV('data/PdAu_nanoparticle_nonredundant_dataset.csv', isMono=False, molLabels=True, transFrac=TRANS_FRAC)\n",
    "PdPtFeats, PdPtOriLabels = loadCSV('data/PdPt_nanoparticle_nonredundant_dataset.csv', isMono=False, molLabels=True, transFrac=TRANS_FRAC)\n",
    "PtAuFeats, PtAuOriLabels = loadCSV('data/PtAu_nanoparticle_nonredundant_dataset.csv', isMono=False, molLabels=True, transFrac=TRANS_FRAC)\n",
    "PtPdFeats, PtPdOriLabels = loadCSV('data/PtPd_nanoparticle_nonredundant_dataset.csv', isMono=False, molLabels=True, transFrac=TRANS_FRAC)\n",
    "\n",
    "# Load labels and extract useful label column(s)\n",
    "feats = ['DBoxEX']  # 'R2EX', 'minLenEX', 'maxLenEX', 'rangeLenEX', 'lowCIEX', 'upCIEX'\n",
    "AuPdLabels = readPickle('data/allAuPdNPsEX.pickle')\n",
    "AuPdLabel = AuPdLabels[feats]\n",
    "AuPtLabels = readPickle('data/allAuPtNPsEX.pickle')\n",
    "AuPtLabel = AuPtLabels[feats]\n",
    "PdAuLabels = readPickle('data/allPdAuNPsEX.pickle')\n",
    "PdAuLabel = PdAuLabels[feats]\n",
    "PdPtLabels = readPickle('data/allPdPtNPsEX.pickle')\n",
    "PdPtLabel = PdPtLabels[feats]\n",
    "PtAuLabels = readPickle('data/allPtAuNPsEX.pickle')\n",
    "PtAuLabel = PtAuLabels[feats]\n",
    "PtPdLabels = readPickle('data/allPtPdNPsEX.pickle')\n",
    "PtPdLabel = PtPdLabels[feats]"
   ]
  },
  {
   "cell_type": "code",
   "execution_count": null,
   "id": "8efd6ad3-0aa2-46cf-8614-53149bee1fbd",
   "metadata": {},
   "outputs": [],
   "source": [
    "# Correction of naming mistakes in BNP data sets\n",
    "numCurve1 = AuPdFeats['MM_TCN_avg']\n",
    "AuPdFeats['MM_TCN_avg'] = AuPdFeats['Curve_171-180']\n",
    "AuPdFeats['Curve_171-180'] = 0\n",
    "AuPdFeats['Frac_Curve_171-180'] = 0.0\n",
    "AuPdFeats['Curve_1-10'] = AuPdFeats['Curve_1-10'] + numCurve1\n",
    "AuPdFeats['Frac_Curve_1-10'] = AuPdFeats['Frac_Curve_1-10'] + numCurve1\n",
    "\n",
    "numCurve1 = AuPtFeats['MM_TCN_avg']\n",
    "AuPtFeats['MM_TCN_avg'] = AuPtFeats['Curve_171-180']\n",
    "AuPtFeats['Curve_171-180'] = 0\n",
    "AuPtFeats['Frac_Curve_171-180'] = 0.0\n",
    "AuPtFeats['Curve_1-10'] = AuPtFeats['Curve_1-10'] + numCurve1\n",
    "AuPtFeats['Frac_Curve_1-10'] = AuPtFeats['Frac_Curve_1-10'] + numCurve1\n",
    "\n",
    "numCurve1 = PdAuFeats['MM_TCN_avg']\n",
    "PdAuFeats['MM_TCN_avg'] = PdAuFeats['Curve_171-180']\n",
    "PdAuFeats['Curve_171-180'] = 0\n",
    "PdAuFeats['Frac_Curve_171-180'] = 0.0\n",
    "PdAuFeats['Curve_1-10'] = PdAuFeats['Curve_1-10'] + numCurve1\n",
    "PdAuFeats['Frac_Curve_1-10'] = PdAuFeats['Frac_Curve_1-10'] + numCurve1\n",
    "\n",
    "numCurve1 = PdPtFeats['MM_TCN_avg']\n",
    "PdPtFeats['MM_TCN_avg'] = PdPtFeats['Curve_171-180']\n",
    "PdPtFeats['Curve_171-180'] = 0\n",
    "PdPtFeats['Frac_Curve_171-180'] = 0.0\n",
    "PdPtFeats['Curve_1-10'] = PdPtFeats['Curve_1-10'] + numCurve1\n",
    "PdPtFeats['Frac_Curve_1-10'] = PdPtFeats['Frac_Curve_1-10'] + numCurve1\n",
    "\n",
    "numCurve1 = PtAuFeats['MM_TCN_avg']\n",
    "PtAuFeats['MM_TCN_avg'] = PtAuFeats['Curve_171-180']\n",
    "PtAuFeats['Curve_171-180'] = 0\n",
    "PtAuFeats['Frac_Curve_171-180'] = 0.0\n",
    "PtAuFeats['Curve_1-10'] = PtAuFeats['Curve_1-10'] + numCurve1\n",
    "PtAuFeats['Frac_Curve_1-10'] = PtAuFeats['Frac_Curve_1-10'] + numCurve1\n",
    "\n",
    "numCurve1 = PtPdFeats['MM_TCN_avg']\n",
    "PtPdFeats['MM_TCN_avg'] = PtPdFeats['Curve_171-180']\n",
    "PtPdFeats['Curve_171-180'] = 0\n",
    "PtPdFeats['Frac_Curve_171-180'] = 0.0\n",
    "PtPdFeats['Curve_1-10'] = PtPdFeats['Curve_1-10'] + numCurve1\n",
    "PtPdFeats['Frac_Curve_1-10'] = PtPdFeats['Frac_Curve_1-10'] + numCurve1"
   ]
  },
  {
   "cell_type": "code",
   "execution_count": null,
   "id": "96b19ee1-d70e-48b4-8c1f-84d5714c7a07",
   "metadata": {},
   "outputs": [],
   "source": [
    "# Combine datasets with the same elemental combinations\n",
    "PdAuFeats.rename({'PdAu_BL_avg': 'AuPd_BL_avg', 'PdAu_BL_max': 'AuPd_BL_max', 'PdAu_BL_min': 'AuPd_BL_min', 'PdAu_BL_num': 'AuPd_BL_num', \n",
    "                  'PdAu_BL_std': 'AuPd_BL_std', 'PdAu_frac': 'AuPd_frac'}, axis=1, inplace=True)\n",
    "PdAuFeats[AuPdFeats.columns]\n",
    "AuPdFeatsDF, AuPdOriLabelsDF = pd.concat([AuPdFeats, PdAuFeats], axis=0), pd.concat([AuPdOriLabels, PdAuOriLabels], axis=0)\n",
    "AuPdFeatsDF = AuPdFeatsDF.reset_index(inplace=False)\n",
    "AuPdFeatsDF.drop(['index'], axis=1, inplace=True)\n",
    "AuPdLabelDF = pd.concat([AuPdLabel, PdAuLabel], axis=0)\n",
    "AuPdLabelDF.reset_index(inplace=True)\n",
    "AuPdLabelDF.drop(['index'], axis=1, inplace=True)\n",
    "del AuPdFeats, PdAuFeats, AuPdLabels, PdAuLabels, AuPdLabel, PdAuLabel\n",
    "\n",
    "PtAuFeats.rename({'PtAu_BL_avg': 'AuPt_BL_avg', 'PtAu_BL_max': 'AuPt_BL_max', 'PtAu_BL_min': 'AuPt_BL_min', 'PtAu_BL_num': 'AuPt_BL_num', \n",
    "                  'PtAu_BL_std': 'AuPt_BL_std', 'PtAu_frac': 'AuPt_frac'}, axis=1, inplace=True)\n",
    "PtAuFeats[AuPtFeats.columns]\n",
    "AuPtFeatsDF, AuPtOriLabelsDF = pd.concat([AuPtFeats, PtAuFeats], axis=0), pd.concat([AuPtOriLabels, PtAuOriLabels], axis=0)\n",
    "AuPtFeatsDF = AuPtFeatsDF.reset_index(inplace=False)\n",
    "AuPtFeatsDF.drop(['index'], axis=1, inplace=True)\n",
    "AuPtLabelDF = pd.concat([AuPtLabel, PtAuLabel], axis=0)\n",
    "AuPtLabelDF.reset_index(inplace=True)\n",
    "AuPtLabelDF.drop(['index'], axis=1, inplace=True)\n",
    "del AuPtFeats, PtAuFeats, AuPtLabels, PtAuLabels, AuPtLabel, PtAuLabel\n",
    "\n",
    "PtPdFeats.rename({'PtPd_BL_avg': 'PdPt_BL_avg', 'PtPd_BL_max': 'PdPt_BL_max', 'PtPd_BL_min': 'PdPt_BL_min', 'PtPd_BL_num': 'PdPt_BL_num', \n",
    "                  'PtPd_BL_std': 'PdPt_BL_std', 'PtPd_frac': 'PdPt_frac'}, axis=1, inplace=True)\n",
    "PtPdFeats[PdPtFeats.columns]\n",
    "PdPtFeatsDF, PdPtOriLabelsDF = pd.concat([PdPtFeats, PtPdFeats], axis=0), pd.concat([PdPtOriLabels, PtPdOriLabels], axis=0)\n",
    "PdPtFeatsDF = PdPtFeatsDF.reset_index(inplace=False)\n",
    "PdPtFeatsDF.drop(['index'], axis=1, inplace=True)\n",
    "PdPtLabelDF = pd.concat([PdPtLabel, PtPdLabel], axis=0)\n",
    "PdPtLabelDF.reset_index(inplace=True)\n",
    "PdPtLabelDF.drop(['index'], axis=1, inplace=True)\n",
    "del PdPtFeats, PtPdFeats, PdPtLabels, PtPdLabels, PdPtLabel, PtPdLabel\n",
    "\n",
    "BNPFeatsDF = pd.concat([AuPdFeatsDF, AuPtFeatsDF, PdPtFeatsDF], axis=0)\n",
    "BNPFeatsDF = BNPFeatsDF.reset_index(inplace=False)\n",
    "BNPFeatsDF.drop(['index'], axis=1, inplace=True)\n",
    "BNPLabelDF = pd.concat([AuPdLabelDF, AuPtLabelDF, PdPtLabelDF], axis=0)\n",
    "BNPLabelDF.reset_index(inplace=True)\n",
    "BNPLabelDF.drop(['index'], axis=1, inplace=True)\n",
    "\n",
    "print(f\"Default labels for AuPd nanoparticle dataset: {AuPdOriLabels.columns.tolist()}\\n\")\n",
    "print(f\"Default labels for AuPt nanoparticle dataset: {AuPtOriLabels.columns.tolist()}\\n\")\n",
    "print(f\"Default labels for PdPt nanoparticle dataset: {AuPtOriLabels.columns.tolist()}\\n\")\n",
    "print(f\"Current label for all datasets: {BNPLabelDF.columns[-1]}\\n\")\n",
    "\n",
    "del AuPdOriLabels, AuPtOriLabels, PdAuOriLabels, PdPtOriLabels, PtAuOriLabels, PtPdOriLabels"
   ]
  },
  {
   "cell_type": "markdown",
   "id": "6e1fd432-49ad-4c84-8e14-cf2f637d3f95",
   "metadata": {
    "jp-MarkdownHeadingCollapsed": true
   },
   "source": [
    "### Data Processing"
   ]
  },
  {
   "cell_type": "markdown",
   "id": "0a11b393-6579-4ed2-a13d-5d9a6187f05a",
   "metadata": {
    "jp-MarkdownHeadingCollapsed": true
   },
   "source": [
    "##### Feature Selection"
   ]
  },
  {
   "cell_type": "code",
   "execution_count": null,
   "id": "03b0853a-845a-4e2f-a4ba-cc0d9165865c",
   "metadata": {
    "scrolled": true
   },
   "outputs": [],
   "source": [
    "# Remove features with zero variance and the second feature of each highly correlated feature pairs\n",
    "CORR_THRESH = 1.0\n",
    "print('AuPd nanoparticles:')\n",
    "AuPdFeatsNoLowVarDF = rmNullLowVarFeats(featsDF=AuPdFeatsDF, rmNull=False, varThresh=VAR_THRESH, verbose=VERBOSE)\n",
    "AuPdFeatsNoLowVarHighCorrDF = rmHighCorrFeats(featsDF=AuPdFeatsNoLowVarDF, corrThresh=CORR_THRESH, verbose=VERBOSE)\n",
    "print('AuPt nanoparticles:')\n",
    "AuPtFeatsNoLowVarDF = rmNullLowVarFeats(featsDF=AuPtFeatsDF, rmNull=False, varThresh=VAR_THRESH, verbose=VERBOSE)\n",
    "AuPtFeatsNoLowVarHighCorrDF = rmHighCorrFeats(featsDF=AuPtFeatsNoLowVarDF, corrThresh=CORR_THRESH, verbose=VERBOSE)\n",
    "print('PdPt nanoparticles:')\n",
    "PdPtFeatsNoLowVarDF = rmNullLowVarFeats(featsDF=PdPtFeatsDF, rmNull=False, varThresh=VAR_THRESH, verbose=VERBOSE)\n",
    "PdPtFeatsNoLowVarHighCorrDF = rmHighCorrFeats(featsDF=PdPtFeatsNoLowVarDF, corrThresh=CORR_THRESH, verbose=VERBOSE)\n",
    "print('All bimetallic nanoparticles:')\n",
    "BNPFeatsNoLowVarDF = rmNullLowVarFeats(featsDF=BNPFeatsDF, rmNull=False, varThresh=VAR_THRESH, verbose=VERBOSE)\n",
    "BNPFeatsNoLowVarHighCorrDF = rmHighCorrFeats(featsDF=BNPFeatsNoLowVarDF, corrThresh=CORR_THRESH, verbose=VERBOSE)\n",
    "\n",
    "del AuPdFeatsNoLowVarDF, AuPtFeatsNoLowVarDF, PdPtFeatsNoLowVarDF, BNPFeatsNoLowVarDF"
   ]
  },
  {
   "cell_type": "markdown",
   "id": "890db597-0a22-4df0-b3ba-0afb844b612e",
   "metadata": {
    "jp-MarkdownHeadingCollapsed": true
   },
   "source": [
    "##### Data Analysis"
   ]
  },
  {
   "cell_type": "code",
   "execution_count": null,
   "id": "4d827b93-c1e0-4d3d-8de4-f2509f0a4014",
   "metadata": {
    "scrolled": true
   },
   "outputs": [],
   "source": [
    "# Correlation heatmap\n",
    "fig, ax = plt.subplots(figsize=(10, 8), dpi=DPI)\n",
    "sns.set(font_scale=1.4)\n",
    "g = sns.heatmap(AuPdFeatsNoLowVarHighCorrDF.corr(), ax=ax)\n",
    "plt.savefig(f\"{FIG_DIR}/AuPdNoC{int(CORR_THRESH * 100)}CorrHeatmap.png\", bbox_inches='tight')\n",
    "\n",
    "fig, ax = plt.subplots(figsize=(10, 8), dpi=DPI)\n",
    "sns.set(font_scale=1.4)\n",
    "g = sns.heatmap(AuPtFeatsNoLowVarHighCorrDF.corr(), ax=ax)\n",
    "plt.savefig(f\"{FIG_DIR}/AuPtNoC{int(CORR_THRESH * 100)}CorrHeatmap.png\", bbox_inches='tight')\n",
    "\n",
    "fig, ax = plt.subplots(figsize=(10, 8), dpi=DPI)\n",
    "sns.set(font_scale=1.4)\n",
    "g = sns.heatmap(PdPtFeatsNoLowVarHighCorrDF.corr(), ax=ax)\n",
    "plt.savefig(f\"{FIG_DIR}/PdPtNoC{int(CORR_THRESH * 100)}CorrHeatmap.png\", bbox_inches='tight')\n",
    "\n",
    "fig, ax = plt.subplots(figsize=(10, 8), dpi=DPI)\n",
    "sns.set(font_scale=1.4)\n",
    "g = sns.heatmap(BNPFeatsNoLowVarHighCorrDF.corr(), ax=ax)  # This correlation matrix requires huge memory\n",
    "plt.savefig(f\"{FIG_DIR}/BNPNoC{int(CORR_THRESH * 100)}CorrHeatmap.png\", bbox_inches='tight')"
   ]
  },
  {
   "cell_type": "code",
   "execution_count": null,
   "id": "33c3a6f2-b8d6-416d-b07c-8b3551ea5975",
   "metadata": {
    "scrolled": true
   },
   "outputs": [],
   "source": [
    "# Merge labels with features\n",
    "print('AuPd nanoparticles:')\n",
    "AuPdNPDF = pd.concat([AuPdFeatsNoLowVarHighCorrDF, AuPdLabelDF], axis=1)\n",
    "display(AuPdNPDF)\n",
    "display(AuPdNPDF.describe())\n",
    "del AuPdFeatsNoLowVarHighCorrDF\n",
    "\n",
    "print('AuPt nanoparticles:')\n",
    "AuPtNPDF = pd.concat([AuPtFeatsNoLowVarHighCorrDF, AuPtLabelDF], axis=1)\n",
    "display(AuPtNPDF)\n",
    "display(AuPtNPDF.describe())\n",
    "del AuPtFeatsNoLowVarHighCorrDF\n",
    "\n",
    "print('PdPt nanoparticles:')\n",
    "PdPtNPDF = pd.concat([PdPtFeatsNoLowVarHighCorrDF, PdPtLabelDF], axis=1)\n",
    "display(PdPtNPDF)\n",
    "display(PdPtNPDF.describe())\n",
    "del PdPtFeatsNoLowVarHighCorrDF\n",
    "\n",
    "print('All bimetallic nanoparticles:')\n",
    "BNPDF = pd.concat([BNPFeatsNoLowVarHighCorrDF, BNPLabelDF], axis=1)\n",
    "display(BNPDF)\n",
    "display(BNPDF.describe())\n",
    "del BNPFeatsNoLowVarHighCorrDF"
   ]
  },
  {
   "cell_type": "code",
   "execution_count": null,
   "id": "55fd588b-f6fd-45ba-8170-8695ce5db685",
   "metadata": {
    "jupyter": {
     "source_hidden": true
    },
    "scrolled": true
   },
   "outputs": [],
   "source": [
    "# Correlation of Each Feature with Box-Counting Dimension Obtained from Exact Surface Representation\n",
    "# for col in AuPdNPDF.columns:\n",
    "#     g = sns.regplot(data=AuPdNPDF, x=col, y='DBoxEX')\n",
    "#     g.figure.set_size_inches(4, 3)\n",
    "#     plt.show()\n",
    "\n",
    "# for col in AuPtNPDF.columns:\n",
    "#     g = sns.regplot(data=AuPtNPDF, x=col, y='DBoxEX')\n",
    "#     g.figure.set_size_inches(4, 3)\n",
    "#     plt.show()\n",
    "\n",
    "# for col in PdPtNPDF.columns:\n",
    "#     g = sns.regplot(data=PdPtNPDF, x=col, y='DBoxEX')\n",
    "#     g.figure.set_size_inches(4, 3)\n",
    "#     plt.show()\n",
    "\n",
    "# for col in BNPDF.columns:\n",
    "#     g = sns.regplot(data=BNPDF, x=col, y='DBoxEX')\n",
    "#     g.figure.set_size_inches(4, 3)\n",
    "#     plt.show()"
   ]
  },
  {
   "cell_type": "code",
   "execution_count": null,
   "id": "6361dc0b-266a-4908-adde-8ec61ec2687d",
   "metadata": {
    "scrolled": true
   },
   "outputs": [],
   "source": [
    "# Top Correlated Features with Box-Counting Dimensions\n",
    "sns.set_theme(context='paper', style='ticks', palette='colorblind', font='sans-serif', font_scale=1, color_codes=True, rc=None)\n",
    "\n",
    "AuPdHighCorrFeats = AuPdNPDF.corr()['DBoxEX'].sort_values(ascending=False, key=abs)\n",
    "AuPtHighCorrFeats = AuPtNPDF.corr()['DBoxEX'].sort_values(ascending=False, key=abs)\n",
    "PdPtHighCorrFeats = PdPtNPDF.corr()['DBoxEX'].sort_values(ascending=False, key=abs)\n",
    "BNPHighCorrFeats = BNPDF.corr()['DBoxEX'].sort_values(ascending=False, key=abs)\n",
    "\n",
    "# All features\n",
    "# numFeats = None\n",
    "# plotFeatsBCDcorrBar(featsDBoxCorrDF=AuPdHighCorrFeats, NPname='AuPd', numFeats=numFeats, corrThresh=CORR_THRESH)\n",
    "# plotFeatsBCDcorrBar(featsDBoxCorrDF=AuPtHighCorrFeats, NPname='AuPt', numFeats=numFeats, corrThresh=CORR_THRESH)\n",
    "# plotFeatsBCDcorrBar(featsDBoxCorrDF=PdPtHighCorrFeats, NPname='PdPt', numFeats=numFeats, corrThresh=CORR_THRESH)\n",
    "# plotFeatsBCDcorrBar(featsDBoxCorrDF=BNPHighCorrFeats, NPname='BNP', numFeats=numFeats, corrThresh=CORR_THRESH)\n",
    "\n",
    "# Top 20 features\n",
    "numFeats = 20\n",
    "plotFeatsBCDcorrBar(featsDBoxCorrDF=AuPdHighCorrFeats, NPname='AuPd', numFeats=numFeats, corrThresh=CORR_THRESH)\n",
    "plotFeatsBCDcorrBar(featsDBoxCorrDF=AuPtHighCorrFeats, NPname='AuPt', numFeats=numFeats, corrThresh=CORR_THRESH)\n",
    "plotFeatsBCDcorrBar(featsDBoxCorrDF=PdPtHighCorrFeats, NPname='PdPt', numFeats=numFeats, corrThresh=CORR_THRESH)\n",
    "plotFeatsBCDcorrBar(featsDBoxCorrDF=BNPHighCorrFeats, NPname='BNP', numFeats=numFeats, corrThresh=CORR_THRESH)"
   ]
  },
  {
   "cell_type": "markdown",
   "id": "bd60fb55-561c-4468-9c23-1f9f59f2dc48",
   "metadata": {
    "jp-MarkdownHeadingCollapsed": true
   },
   "source": [
    "##### Data Storage"
   ]
  },
  {
   "cell_type": "code",
   "execution_count": null,
   "id": "1ba9693c-c23a-48d9-901c-44799e424cb8",
   "metadata": {},
   "outputs": [],
   "source": [
    "with open(f\"{DATA_DIR}/processedBNPdataNoC{int(CORR_THRESH * 100)}.pickle\", 'wb') as f:\n",
    "    pickle.dump([AuPdNPDF, AuPtNPDF, PdPtNPDF, BNPDF], f)\n",
    "\n",
    "del AuPdNPDF, AuPdHighCorrFeats\n",
    "del AuPtNPDF, AuPtHighCorrFeats\n",
    "del PdPtNPDF, PdPtHighCorrFeats\n",
    "del BNPDF, BNPHighCorrFeats"
   ]
  },
  {
   "cell_type": "markdown",
   "id": "36d31cc2-e3dd-44eb-830d-0947e60dfac5",
   "metadata": {
    "jp-MarkdownHeadingCollapsed": true
   },
   "source": [
    "### Correlations between Box-Counting Dimension and Other Features"
   ]
  },
  {
   "cell_type": "code",
   "execution_count": null,
   "id": "4398ab8b-cfdc-4dac-9e28-30071c628f03",
   "metadata": {},
   "outputs": [],
   "source": [
    "# Create master dataframe\n",
    "AuPdLabelDF['Elements'] = 'AuPd'\n",
    "AuPtLabelDF['Elements'] = 'AuPt'\n",
    "PdPtLabelDF['Elements'] = 'PdPt'\n",
    "\n",
    "BNPLabelDF = pd.concat([AuPdLabelDF, AuPtLabelDF, PdPtLabelDF], axis=0)\n",
    "BNPLabelDF = BNPLabelDF.reset_index(inplace=False)\n",
    "BNPLabelDF = BNPLabelDF.drop(['index'], axis=1, inplace=False)\n",
    "BNPDF = pd.concat([BNPFeatsNoLowVarHighCorrDF, BNPLabelDF], axis=1)"
   ]
  },
  {
   "cell_type": "code",
   "execution_count": null,
   "id": "06e81a03-94c8-493e-96f4-774b8cd8e91c",
   "metadata": {
    "jupyter": {
     "source_hidden": true
    },
    "scrolled": true
   },
   "outputs": [],
   "source": [
    "# Distribution of D_B\n",
    "plotBCDhist(df=BNPDF, figNameAppend='BNP', splitFeat='Elements', titleName='Elements', xLims=(2.00, 2.65))\n",
    "\n",
    "# Statistics\n",
    "sigDiffBNPDF = compareRoughSmoothStats(df=BNPDF)\n",
    "sigDiffBNPDF"
   ]
  },
  {
   "cell_type": "code",
   "execution_count": null,
   "id": "97621c33-eeae-4715-9bd1-edf70164d598",
   "metadata": {
    "jupyter": {
     "source_hidden": true
    }
   },
   "outputs": [],
   "source": [
    "# Identification of the D_B values where the peaks of KDEs are\n",
    "df = BNPDF\n",
    "splitFeat = 'Elements'\n",
    "xFeat = 'DBoxEX'\n",
    "\n",
    "hueOrder = ['BNP', 'TNP', 'MNP'] if splitFeat == 'typeNP' else sorted(df[splitFeat].unique())\n",
    "g = sns.displot(data=df, x=xFeat, y=None, hue=splitFeat, row=None, col=None,\n",
    "                weights=None, kind='kde', rug=False, rug_kws=None, log_scale=None, \n",
    "                legend=True, palette='deep', hue_order=hueOrder, hue_norm=None, color=None, col_wrap=None, \n",
    "                row_order=None, col_order=None, height=3, aspect=1.2, facet_kws=None, common_norm=False)\n",
    "plt.close()\n",
    "\n",
    "kdeAuPd = g.ax.get_children()[0].get_data()[1]\n",
    "bcdMaxAuPd = g.ax.get_children()[0].get_data()[0][np.argmax(kdeAuPd)]\n",
    "kdeAuPt = g.ax.get_children()[1].get_data()[1]\n",
    "bcdMaxAuPt = g.ax.get_children()[1].get_data()[0][np.argmax(kdeAuPt)]\n",
    "kdePdPt = g.ax.get_children()[2].get_data()[1]\n",
    "bcdMaxPdPt = g.ax.get_children()[2].get_data()[0][np.argmax(kdePdPt)]\n",
    "print(f\"AuPd: {bcdMaxAuPd:.4f}\\nAuPt: {bcdMaxAuPt:.4f}\\nPdPt: {bcdMaxPdPt:.4f}\")"
   ]
  },
  {
   "cell_type": "code",
   "execution_count": null,
   "id": "426271c7-f2ec-425d-9fbb-c78b40e3d7c1",
   "metadata": {
    "jupyter": {
     "source_hidden": true
    },
    "scrolled": true
   },
   "outputs": [],
   "source": [
    "# Distribution of D_B for nanoparticles with different alloy ratios \n",
    "FRAC_THRESH = 1e-3\n",
    "\n",
    "AuPdFeatsNoLowVarHighCorrDF['AuPd_alloy_ratio'] = np.nan\n",
    "AuPdFeatsNoLowVarHighCorrDF['AuPd_alloy_ratio'][(AuPdFeatsNoLowVarHighCorrDF['Frac_N_Au'] >= 0.25 - FRAC_THRESH) & (AuPdFeatsNoLowVarHighCorrDF['Frac_N_Au'] <= 0.25 + FRAC_THRESH)] = '1:3'\n",
    "AuPdFeatsNoLowVarHighCorrDF['AuPd_alloy_ratio'][(AuPdFeatsNoLowVarHighCorrDF['Frac_N_Au'] >= 0.5 - FRAC_THRESH) & (AuPdFeatsNoLowVarHighCorrDF['Frac_N_Au'] <= 0.5 + FRAC_THRESH)] = '1:1'\n",
    "AuPdFeatsNoLowVarHighCorrDF['AuPd_alloy_ratio'][(AuPdFeatsNoLowVarHighCorrDF['Frac_N_Au'] >= 0.75 - FRAC_THRESH) & (AuPdFeatsNoLowVarHighCorrDF['Frac_N_Au'] <= 0.75 + FRAC_THRESH)] = '3:1'\n",
    "\n",
    "AuPtFeatsNoLowVarHighCorrDF['AuPt_alloy_ratio'] = np.nan\n",
    "AuPtFeatsNoLowVarHighCorrDF['AuPt_alloy_ratio'][(AuPtFeatsNoLowVarHighCorrDF['Frac_N_Au'] >= 0.25 - FRAC_THRESH) & (AuPtFeatsNoLowVarHighCorrDF['Frac_N_Au'] <= 0.25 + FRAC_THRESH)] = '1:3'\n",
    "AuPtFeatsNoLowVarHighCorrDF['AuPt_alloy_ratio'][(AuPtFeatsNoLowVarHighCorrDF['Frac_N_Au'] >= 0.5 - FRAC_THRESH) & (AuPtFeatsNoLowVarHighCorrDF['Frac_N_Au'] <= 0.5 + FRAC_THRESH)] = '1:1'\n",
    "AuPtFeatsNoLowVarHighCorrDF['AuPt_alloy_ratio'][(AuPtFeatsNoLowVarHighCorrDF['Frac_N_Au'] >= 0.75 - FRAC_THRESH) & (AuPtFeatsNoLowVarHighCorrDF['Frac_N_Au'] <= 0.75 + FRAC_THRESH)] = '3:1'\n",
    "\n",
    "PdPtFeatsNoLowVarHighCorrDF['PdPt_alloy_ratio'] = np.nan\n",
    "PdPtFeatsNoLowVarHighCorrDF['PdPt_alloy_ratio'][(PdPtFeatsNoLowVarHighCorrDF['Frac_N_Pd'] >= 0.25 - FRAC_THRESH) & (PdPtFeatsNoLowVarHighCorrDF['Frac_N_Pd'] <= 0.25 + FRAC_THRESH)] = '1:3'\n",
    "PdPtFeatsNoLowVarHighCorrDF['PdPt_alloy_ratio'][(PdPtFeatsNoLowVarHighCorrDF['Frac_N_Pd'] >= 0.5 - FRAC_THRESH) & (PdPtFeatsNoLowVarHighCorrDF['Frac_N_Pd'] <= 0.5 + FRAC_THRESH)] = '1:1'\n",
    "PdPtFeatsNoLowVarHighCorrDF['PdPt_alloy_ratio'][(PdPtFeatsNoLowVarHighCorrDF['Frac_N_Pd'] >= 0.75 - FRAC_THRESH) & (PdPtFeatsNoLowVarHighCorrDF['Frac_N_Pd'] <= 0.75 + FRAC_THRESH)] = '3:1'\n",
    "\n",
    "AuPdNPDF = pd.concat([AuPdFeatsNoLowVarHighCorrDF, AuPdLabelDF], axis=1)\n",
    "AuPdNPDF = AuPdNPDF.dropna(subset='AuPd_alloy_ratio')\n",
    "AuPtNPDF = pd.concat([AuPtFeatsNoLowVarHighCorrDF, AuPtLabelDF], axis=1)\n",
    "AuPtNPDF = AuPtNPDF.dropna(subset='AuPt_alloy_ratio')\n",
    "PdPtNPDF = pd.concat([PdPtFeatsNoLowVarHighCorrDF, PdPtLabelDF], axis=1)\n",
    "PdPtNPDF = PdPtNPDF.dropna(subset='PdPt_alloy_ratio')\n",
    "\n",
    "plotBCDhist(df=AuPdNPDF, figNameAppend='AuPdalloyRatio', splitFeat='AuPd_alloy_ratio', titleName='Au:Pd ratio', xLims=(2.00, 2.65), threshLines=True, legendXpos=0.42)\n",
    "plotBCDhist(df=AuPtNPDF, figNameAppend='AuPtalloyRatio', splitFeat='AuPt_alloy_ratio', titleName='Au:Pt ratio', xLims=(2.00, 2.65), threshLines=True, legendXpos=0.42)\n",
    "plotBCDhist(df=PdPtNPDF, figNameAppend='PdPtalloyRatio', splitFeat='PdPt_alloy_ratio', titleName='Pd:Pt ratio', xLims=(2.00, 2.65), threshLines=True, legendXpos=0.42)"
   ]
  },
  {
   "cell_type": "code",
   "execution_count": null,
   "id": "32041919-bd87-4d6c-8b0e-5da706bc7cee",
   "metadata": {
    "jupyter": {
     "source_hidden": true
    },
    "scrolled": true
   },
   "outputs": [],
   "source": [
    "# Distribution of D_B for nanoparticles with different segregation percentages\n",
    "AuPdFeatsNoLowVarHighCorrDF['AuPd_surf_ratio'] = AuPdFeatsNoLowVarHighCorrDF['AuM_SOCN_avg'] / AuPdFeatsNoLowVarHighCorrDF['PdM_SOCN_avg']\n",
    "AuPtFeatsNoLowVarHighCorrDF['AuPt_surf_ratio'] = AuPtFeatsNoLowVarHighCorrDF['AuM_SOCN_avg'] / AuPtFeatsNoLowVarHighCorrDF['PtM_SOCN_avg']\n",
    "PdPtFeatsNoLowVarHighCorrDF['PdPt_surf_ratio'] = PdPtFeatsNoLowVarHighCorrDF['PdM_SOCN_avg'] / PdPtFeatsNoLowVarHighCorrDF['PtM_SOCN_avg']\n",
    "\n",
    "AuPdFeatsNoLowVarHighCorrDF['Au_seg_perc'] = np.nan\n",
    "AuPdFeatsNoLowVarHighCorrDF['Au_seg_perc'][AuPdFeatsNoLowVarHighCorrDF['AuPd_surf_ratio'] == 0.0] = 0.0\n",
    "AuPdFeatsNoLowVarHighCorrDF['Au_seg_perc'][AuPdFeatsNoLowVarHighCorrDF['AuPd_surf_ratio'] == 1.0] = 50.0\n",
    "AuPdFeatsNoLowVarHighCorrDF['Au_seg_perc'][AuPdFeatsNoLowVarHighCorrDF['AuPd_surf_ratio'] == np.inf] = 100.0\n",
    "\n",
    "AuPtFeatsNoLowVarHighCorrDF['Au_seg_perc'] = np.nan\n",
    "AuPtFeatsNoLowVarHighCorrDF['Au_seg_perc'][AuPtFeatsNoLowVarHighCorrDF['AuPt_surf_ratio'] == 0.0] = 0.0\n",
    "AuPtFeatsNoLowVarHighCorrDF['Au_seg_perc'][AuPtFeatsNoLowVarHighCorrDF['AuPt_surf_ratio'] == 1.0] = 50.0\n",
    "AuPtFeatsNoLowVarHighCorrDF['Au_seg_perc'][AuPtFeatsNoLowVarHighCorrDF['AuPt_surf_ratio'] == np.inf] = 100.0\n",
    "\n",
    "PdPtFeatsNoLowVarHighCorrDF['Pd_seg_perc'] = np.nan\n",
    "PdPtFeatsNoLowVarHighCorrDF['Pd_seg_perc'][PdPtFeatsNoLowVarHighCorrDF['PdPt_surf_ratio'] == 0.0] = 0.0\n",
    "PdPtFeatsNoLowVarHighCorrDF['Pd_seg_perc'][PdPtFeatsNoLowVarHighCorrDF['PdPt_surf_ratio'] == 1.0] = 50.0\n",
    "PdPtFeatsNoLowVarHighCorrDF['Pd_seg_perc'][PdPtFeatsNoLowVarHighCorrDF['PdPt_surf_ratio'] == np.inf] = 100.0\n",
    "\n",
    "AuPdNPDF = pd.concat([AuPdFeatsNoLowVarHighCorrDF, AuPdLabelDF], axis=1)\n",
    "AuPdNPDF = AuPdNPDF.dropna(subset='Au_seg_perc')\n",
    "AuPtNPDF = pd.concat([AuPtFeatsNoLowVarHighCorrDF, AuPtLabelDF], axis=1)\n",
    "AuPtNPDF = AuPtNPDF.dropna(subset='Au_seg_perc')\n",
    "PdPtNPDF = pd.concat([PdPtFeatsNoLowVarHighCorrDF, PdPtLabelDF], axis=1)\n",
    "PdPtNPDF = PdPtNPDF.dropna(subset='Pd_seg_perc')\n",
    "\n",
    "# Surface segregation\n",
    "plotBCDhist(df=AuPdNPDF, figNameAppend='AuPdsurfSeg', splitFeat='Au_seg_perc', titleName='Au segregation percentage (%)', xLims=(2.00, 2.65), threshLines=True, legendXpos=0.45)\n",
    "plotBCDhist(df=AuPtNPDF, figNameAppend='AuPtsurfSeg', splitFeat='Au_seg_perc', titleName='Au segregation percentage (%)', xLims=(2.00, 2.65), threshLines=True, legendXpos=0.45)\n",
    "plotBCDhist(df=PdPtNPDF, figNameAppend='PdPtsurfSeg', splitFeat='Pd_seg_perc', titleName='Pd segregation percentage (%)', xLims=(2.00, 2.65), threshLines=True, legendXpos=0.45)"
   ]
  },
  {
   "cell_type": "code",
   "execution_count": null,
   "id": "945a2c81-cc7a-4aa7-872f-8ef48e4d62e9",
   "metadata": {
    "jupyter": {
     "source_hidden": true
    },
    "scrolled": true
   },
   "outputs": [],
   "source": [
    "# Distribution of bond length standard deviation for nanoparticles with different segregation percentages\n",
    "AuPdNPDF['surfSeg'] = 'Segregated'\n",
    "AuPdNPDF['surfSeg'][AuPdNPDF['Au_seg_perc'] == 50.0] = 'Mixed'\n",
    "AuPtNPDF['surfSeg'] = 'Segregated'\n",
    "AuPtNPDF['surfSeg'][AuPtNPDF['Au_seg_perc'] == 50.0] = 'Mixed'\n",
    "PdPtNPDF['surfSeg'] = 'Segregated'\n",
    "PdPtNPDF['surfSeg'][PdPtNPDF['Pd_seg_perc'] == 50.0] = 'Mixed'\n",
    "BNPDF = pd.concat([AuPdNPDF, AuPtNPDF, PdPtNPDF], axis=0)\n",
    "\n",
    "plotBCDhist(df=AuPdNPDF, figNameAppend='AuPdBLenSurfSeg', splitFeat='Au_seg_perc', titleName='Au segregation percentage (%)', \n",
    "            xFeat='MM_BL_std', xLabel=r'Bond length standard deviation ($\\AA$)', threshLines=False, legendXpos=0.47, legendYpos=-0.14)\n",
    "plotBCDhist(df=AuPtNPDF, figNameAppend='AuPtBLenSurfSeg', splitFeat='Au_seg_perc', titleName='Au segregation percentage (%)', \n",
    "            xFeat='MM_BL_std', xLabel=r'Bond length standard deviation ($\\AA$)', threshLines=False, legendXpos=0.47, legendYpos=-0.14)\n",
    "plotBCDhist(df=PdPtNPDF, figNameAppend='PdPtBLenSurfSeg', splitFeat='Pd_seg_perc', titleName='Pd segregation percentage (%)', \n",
    "            xFeat='MM_BL_std', xLabel=r'Bond length standard deviation ($\\AA$)', threshLines=False, legendXpos=0.47, legendYpos=-0.14)\n",
    "# Uncomment the sns.move_legend() function in corrAnalysis.py before running the next line\n",
    "# plotBCDhist(df=BNPDF, figNameAppend='BNPBLenSurfSeg', splitFeat='surfSeg', titleName='Surface segregation', \n",
    "#             xFeat='MM_BL_std', xLabel=r'Bond length standard deviation ($\\AA$)', threshLines=False, legendXpos=0.47, legendYpos=-0.12)"
   ]
  },
  {
   "cell_type": "code",
   "execution_count": null,
   "id": "d5f0c674-1688-430e-bab8-ef6f64e77ff0",
   "metadata": {
    "jupyter": {
     "source_hidden": true
    }
   },
   "outputs": [],
   "source": [
    "# Quantification of the difference in the top 10% D_B\n",
    "(2.5518252235381427 - 2.3582120511861047) / (2.606885546023433 - 2.043601382066259)  # 34.4%\n",
    "(2.5048255757828417 - 2.329851357113374) / (2.617313254181112 - 2.107305989700644)  # 34.3%\n",
    "(2.475482146934646 - 2.322431260239146) / (2.5866201147099104 - 2.1113442651811236)  # 32.2%"
   ]
  },
  {
   "cell_type": "code",
   "execution_count": null,
   "id": "fb1a67ed-ec49-44e4-99fe-36bbfddfc6a7",
   "metadata": {},
   "outputs": [],
   "source": [
    "# Group features\n",
    "processFeats = ['T', 'P']\n",
    "npStatsFeats = ['N_atom_total', 'N_atom_bulk', 'N_atom_surface', 'Vol_bulk_pack', 'Vol_sphere', \n",
    "                'N_bond', 'N_Au', 'N_Pd', 'N_Pt', 'AuAu_frac', 'AuPd_frac', 'AuPt_frac', 'PdPd_frac', 'PdPt_frac', 'PtPt_frac',\n",
    "                'R_min', 'R_max', 'R_diff', 'R_avg', 'R_std', 'R_skew', 'R_kurt', 'D_avg']\n",
    "facetFeats = ['S_100', 'S_111', 'S_110', 'S_311', 'Frac_S_100', 'Frac_S_111', 'Frac_S_110', 'Frac_S_311']\n",
    "curvFeats = [feat for feat in BNPDF.columns if 'Curve' in feat]\n",
    "tcnFeats = [feat for feat in BNPDF.columns if 'MM_TCN' in feat or 'MM_TGCN' in feat]\n",
    "bcnFeats = [feat for feat in BNPDF.columns if 'MM_BCN' in feat or 'MM_BGCN' in feat]\n",
    "scnFeats = [feat for feat in BNPDF.columns if 'MM_SCN' in feat or 'MM_SGCN' in feat or 'MM_SOCN' in feat or 'MM_SOGCN' in feat]\n",
    "blFeats = [feat for feat in BNPDF.columns if 'MM_BL' in feat]\n",
    "baFeats = [feat for feat in BNPDF.columns if 'MMM_BA' in feat]\n",
    "btFeats = [feat for feat in BNPDF.columns if 'MMMM_BT' in feat]\n",
    "crysFeats = ['FCC', 'HCP', 'ICOS', 'DECA', 'Frac_FCC', 'Frac_HCP', 'Frac_ICOS', 'Frac_DECA']\n",
    "q6q6tFeats = [feat for feat in BNPDF.columns if 'q6q6_T' in feat]\n",
    "q6q6bFeats = [feat for feat in BNPDF.columns if 'q6q6_B' in feat]\n",
    "q6q6sFeats = [feat for feat in BNPDF.columns if 'q6q6_S' in feat]"
   ]
  },
  {
   "cell_type": "code",
   "execution_count": null,
   "id": "268953e6-0fb8-452b-8114-80afa9bc0dc7",
   "metadata": {
    "jupyter": {
     "source_hidden": true
    },
    "scrolled": true
   },
   "outputs": [],
   "source": [
    "# Correlations between box-counting dimension and features\n",
    "plotFeatsBCDcorr(df=BNPDF, feats=processFeats, figNameAppend='BNP', titleName='Elements', showPlot=True)\n",
    "plotFeatsBCDcorr(df=BNPDF, feats=npStatsFeats, figNameAppend='BNP', titleName='Elements', showPlot=True)\n",
    "plotFeatsBCDcorr(df=BNPDF, feats=facetFeats, figNameAppend='BNP', titleName='Elements', showPlot=True)\n",
    "plotFeatsBCDcorr(df=BNPDF, feats=curvFeats, figNameAppend='BNP', titleName='Elements', showPlot=True)\n",
    "plotFeatsBCDcorr(df=BNPDF, feats=tcnFeats, figNameAppend='BNP', titleName='Elements', showPlot=True)\n",
    "plotFeatsBCDcorr(df=BNPDF, feats=bcnFeats, figNameAppend='BNP', titleName='Elements', showPlot=True)\n",
    "plotFeatsBCDcorr(df=BNPDF, feats=scnFeats, figNameAppend='BNP', titleName='Elements', showPlot=True)\n",
    "plotFeatsBCDcorr(df=BNPDF, feats=blFeats, figNameAppend='BNP', titleName='Elements', showPlot=True)\n",
    "plotFeatsBCDcorr(df=BNPDF, feats=baFeats, figNameAppend='BNP', titleName='Elements', showPlot=True)\n",
    "plotFeatsBCDcorr(df=BNPDF, feats=btFeats, figNameAppend='BNP', titleName='Elements', showPlot=True)\n",
    "plotFeatsBCDcorr(df=BNPDF, feats=crysFeats, figNameAppend='BNP', titleName='Elements', showPlot=True)\n",
    "plotFeatsBCDcorr(df=BNPDF, feats=q6q6tFeats, figNameAppend='BNP', titleName='Elements', showPlot=True)\n",
    "plotFeatsBCDcorr(df=BNPDF, feats=q6q6bFeats, figNameAppend='BNP', titleName='Elements', showPlot=True)\n",
    "plotFeatsBCDcorr(df=BNPDF, feats=q6q6sFeats, figNameAppend='BNP', titleName='Elements', showPlot=True)"
   ]
  },
  {
   "cell_type": "code",
   "execution_count": null,
   "id": "d3394909-8b20-4de8-992c-78949654e7ef",
   "metadata": {
    "jupyter": {
     "source_hidden": true
    },
    "scrolled": true
   },
   "outputs": [],
   "source": [
    "# Calculate the number of hypotheses for Bonferroni correction\n",
    "feats = processFeats + npStatsFeats + facetFeats + curvFeats + tcnFeats + bcnFeats + scnFeats + blFeats + baFeats + btFeats + crysFeats + q6q6tFeats + q6q6bFeats + q6q6sFeats\n",
    "splitFeat = 'Elements'\n",
    "numHypothesis = countNumHypothesis(df=BNPDF, feats=feats, splitFeat=splitFeat)"
   ]
  },
  {
   "cell_type": "code",
   "execution_count": null,
   "id": "5b2ad59c-988e-46d9-a8df-497e5b931202",
   "metadata": {
    "jupyter": {
     "source_hidden": true
    },
    "scrolled": true
   },
   "outputs": [],
   "source": [
    "mis = calcMIs(df=BNPDF, feats=processFeats, splitFeat='Elements', numHypothesis=numHypothesis)\n",
    "mis = calcMIs(df=BNPDF, feats=npStatsFeats, splitFeat='Elements', numHypothesis=numHypothesis)\n",
    "mis = calcMIs(df=BNPDF, feats=facetFeats, splitFeat='Elements', numHypothesis=numHypothesis)\n",
    "mis = calcMIs(df=BNPDF, feats=curvFeats, splitFeat='Elements', numHypothesis=numHypothesis)\n",
    "mis = calcMIs(df=BNPDF, feats=tcnFeats, splitFeat='Elements', numHypothesis=numHypothesis)\n",
    "mis = calcMIs(df=BNPDF, feats=bcnFeats, splitFeat='Elements', numHypothesis=numHypothesis)\n",
    "mis = calcMIs(df=BNPDF, feats=scnFeats, splitFeat='Elements', numHypothesis=numHypothesis)\n",
    "mis = calcMIs(df=BNPDF, feats=blFeats, splitFeat='Elements', numHypothesis=numHypothesis)\n",
    "mis = calcMIs(df=BNPDF, feats=baFeats, splitFeat='Elements', numHypothesis=numHypothesis)\n",
    "mis = calcMIs(df=BNPDF, feats=crysFeats, splitFeat='Elements', numHypothesis=numHypothesis)\n",
    "mis = calcMIs(df=BNPDF, feats=q6q6tFeats, splitFeat='Elements', numHypothesis=numHypothesis)\n",
    "mis = calcMIs(df=BNPDF, feats=q6q6bFeats, splitFeat='Elements', numHypothesis=numHypothesis)\n",
    "mis = calcMIs(df=BNPDF, feats=q6q6sFeats, splitFeat='Elements', numHypothesis=numHypothesis)"
   ]
  },
  {
   "cell_type": "markdown",
   "id": "f7e499c7-4781-4ad5-aaa0-d2d10e3e39b2",
   "metadata": {
    "jp-MarkdownHeadingCollapsed": true
   },
   "source": [
    "<a id='tnps'></a>\n",
    "## Trimetallic Nanoparticles\n",
    "\n",
    "Here we process the data for the simulated trimetallic nanoparticles consisting of gold, palladium, and platinum."
   ]
  },
  {
   "cell_type": "code",
   "execution_count": null,
   "id": "1e125667-2645-487b-aa19-86dd0b5c3718",
   "metadata": {
    "jupyter": {
     "source_hidden": true
    }
   },
   "outputs": [],
   "source": [
    "# AuPdPt0DBoxDF = readPickle('data/allAuPdPtNPs0EX.pickle')\n",
    "# AuPdPt1DBoxDF = readPickle('data/allAuPdPtNPs1EX.pickle')\n",
    "# AuPdPt2DBoxDF = readPickle('data/allAuPdPtNPs2EX.pickle')\n",
    "# AuPdPt3DBoxDF = readPickle('data/allAuPdPtNPs3EX.pickle')\n",
    "# AuPdPt4DBoxDF = readPickle('data/allAuPdPtNPs4EX.pickle')\n",
    "# AuPdPtDBoxDF = pd.concat([AuPdPt0DBoxDF, AuPdPt1DBoxDF, AuPdPt2DBoxDF, AuPdPt3DBoxDF, AuPdPt4DBoxDF], axis=0)\n",
    "\n",
    "# with open('data/allAuPdPtNPsEX.pickle', 'wb') as f:\n",
    "#     pickle.dump(AuPdPtDBoxDF, f) "
   ]
  },
  {
   "cell_type": "markdown",
   "id": "d0495b2d-0a4b-485e-83e5-d01721f28490",
   "metadata": {},
   "source": [
    "### Data Loading"
   ]
  },
  {
   "cell_type": "code",
   "execution_count": null,
   "id": "40c376d2-367a-4bbe-ad16-593a932e1d9d",
   "metadata": {},
   "outputs": [],
   "source": [
    "# Load features\n",
    "AuPdPtFeatsDF, AuPdPtOriLabelsDF = loadCSV('data/AuPdPt_nanoparticle_dataset.csv', isMono=False, molLabels=True, transFrac=TRANS_FRAC)\n",
    "\n",
    "# Load labels and extract useful label column(s)\n",
    "feats = ['DBoxEX'] # 'R2EX', 'minLenEX', 'maxLenEX', 'rangeLenEX', 'lowCIEX', 'upCIEX'\n",
    "AuPdPtLabelsDF = readPickle('data/allAuPdPtNPsEX.pickle')  # 'data/allAuPdPtNPsEXnoTrim.pickle' for comparison\n",
    "AuPdPtLabelDF = AuPdPtLabelsDF[feats]\n",
    "AuPdPtLabelDF.reset_index(inplace=True)\n",
    "AuPdPtLabelDF = AuPdPtLabelDF.drop(['index'], axis=1, inplace=False)\n",
    "\n",
    "print(f\"Default labels for AuPdPt nanoparticle dataset: {AuPdPtOriLabelsDF.columns.tolist()}\\n\")\n",
    "print(f\"Current label: {AuPdPtLabelDF.columns[-1]}\\n\")\n",
    "\n",
    "del AuPdPtOriLabelsDF, AuPdPtLabelsDF"
   ]
  },
  {
   "cell_type": "markdown",
   "id": "7e58b8ff-75ba-4f5d-a96f-237b2da1e44c",
   "metadata": {
    "jp-MarkdownHeadingCollapsed": true
   },
   "source": [
    "### Data Processing"
   ]
  },
  {
   "cell_type": "markdown",
   "id": "8b0d5861-4a72-482f-9700-2720628cc9b6",
   "metadata": {
    "jp-MarkdownHeadingCollapsed": true
   },
   "source": [
    "##### Feature Selection"
   ]
  },
  {
   "cell_type": "code",
   "execution_count": null,
   "id": "496aa871-c021-4e5e-8cf0-b669b32c15ac",
   "metadata": {
    "scrolled": true
   },
   "outputs": [],
   "source": [
    "# Remove features with zero variance and the second feature of each highly correlated feature pairs\n",
    "CORR_THRESH = 1.0\n",
    "AuPdPtFeatsNoLowVarDF = rmNullLowVarFeats(featsDF=AuPdPtFeatsDF, rmNull=False, varThresh=VAR_THRESH, verbose=VERBOSE)\n",
    "AuPdPtFeatsNoLowVarHighCorrDF = rmHighCorrFeats(featsDF=AuPdPtFeatsNoLowVarDF, corrThresh=CORR_THRESH, verbose=VERBOSE)\n",
    "del AuPdPtFeatsNoLowVarDF"
   ]
  },
  {
   "cell_type": "markdown",
   "id": "89883197-c1f1-4a33-a477-6f0672a873af",
   "metadata": {
    "jp-MarkdownHeadingCollapsed": true
   },
   "source": [
    "##### Data Analysis"
   ]
  },
  {
   "cell_type": "code",
   "execution_count": null,
   "id": "a4be4f90-9fe3-4a87-a22b-0c176da896b3",
   "metadata": {
    "scrolled": true
   },
   "outputs": [],
   "source": [
    "# Correlation heatmap\n",
    "fig, ax = plt.subplots(figsize=(10, 8), dpi=DPI)\n",
    "sns.set(font_scale=1.4)\n",
    "g = sns.heatmap(AuPdPtFeatsNoLowVarHighCorrDF.corr(), ax=ax)\n",
    "plt.savefig(f\"{FIG_DIR}/AuPdPtNoC{int(CORR_THRESH * 100)}CorrHeatmap.png\", bbox_inches='tight')"
   ]
  },
  {
   "cell_type": "code",
   "execution_count": null,
   "id": "bd54cff0-add4-4545-9163-74958eae249c",
   "metadata": {
    "scrolled": true
   },
   "outputs": [],
   "source": [
    "# Merge labels with features\n",
    "AuPdPtNPDF = pd.concat([AuPdPtFeatsNoLowVarHighCorrDF, AuPdPtLabelDF], axis=1)\n",
    "print('Gold-Palladium-Platinum nanoparticles:')\n",
    "display(AuPdPtNPDF)\n",
    "display(AuPdPtNPDF.describe())\n",
    "del AuPdPtFeatsNoLowVarHighCorrDF"
   ]
  },
  {
   "cell_type": "code",
   "execution_count": null,
   "id": "bc96df02-477f-42c7-a67b-f28b597df8ed",
   "metadata": {
    "jupyter": {
     "source_hidden": true
    },
    "scrolled": true
   },
   "outputs": [],
   "source": [
    "# Correlation of Each Feature with Box-Counting Dimension Obtained from Exact Surface Representation\n",
    "# for col in AuPdPtNPDF.columns:\n",
    "#     g = sns.regplot(data=AuPdPtNPDF, x=col, y='DBoxEX')\n",
    "#     g.figure.set_size_inches(4, 3)\n",
    "#     plt.show()"
   ]
  },
  {
   "cell_type": "code",
   "execution_count": null,
   "id": "96c10cdb-9233-42b4-88d8-c458a1307960",
   "metadata": {
    "scrolled": true
   },
   "outputs": [],
   "source": [
    "# Top Correlated Features with Box-Counting Dimensions\n",
    "sns.set_theme(context='paper', style='ticks', palette='colorblind', font='sans-serif', font_scale=1, color_codes=True, rc=None)\n",
    "AuPdPtHighCorrFeats = AuPdPtNPDF.corr()['DBoxEX'].sort_values(ascending=False, key=abs)\n",
    "# plotFeatsBCDcorrBar(featsDBoxCorrDF=AuPdPtHighCorrFeats, NPname='AuPdPt', numFeats=None, corrThresh=CORR_THRESH)  # All features\n",
    "plotFeatsBCDcorrBar(featsDBoxCorrDF=AuPdPtHighCorrFeats, NPname='AuPdPt', numFeats=20, corrThresh=CORR_THRESH)  # Top 20 features"
   ]
  },
  {
   "cell_type": "markdown",
   "id": "7c388198-2681-40c9-8d5a-5390d33cfc5c",
   "metadata": {
    "jp-MarkdownHeadingCollapsed": true
   },
   "source": [
    "##### Data Storage"
   ]
  },
  {
   "cell_type": "code",
   "execution_count": null,
   "id": "8d2fb961-8c20-4b16-a76e-bf3c15542133",
   "metadata": {},
   "outputs": [],
   "source": [
    "with open(f\"{DATA_DIR}/processedTNPdataNoC{int(CORR_THRESH * 100)}.pickle\", 'wb') as f:\n",
    "    pickle.dump(AuPdPtNPDF, f)\n",
    "del AuPdPtNPDF, AuPdPtHighCorrFeats"
   ]
  },
  {
   "cell_type": "markdown",
   "id": "6235e00f-9497-4409-92b9-d31a34297e3e",
   "metadata": {},
   "source": [
    "### Correlations between Box-Counting Dimension and Other Features"
   ]
  },
  {
   "cell_type": "code",
   "execution_count": null,
   "id": "2fd3e4f4-61e2-47de-9493-d39ce5190ecd",
   "metadata": {},
   "outputs": [],
   "source": [
    "# Create master dataframe\n",
    "AuPdPtLabelDF['Elements'] = 'AuPdPt'\n",
    "AuPdPtDF = pd.concat([AuPdPtFeatsNoLowVarHighCorrDF, AuPdPtLabelDF], axis=1)"
   ]
  },
  {
   "cell_type": "code",
   "execution_count": null,
   "id": "3d0b97ab-b88c-4199-b7fc-0209808079e8",
   "metadata": {
    "jupyter": {
     "source_hidden": true
    },
    "scrolled": true
   },
   "outputs": [],
   "source": [
    "# Distribution of box-counting dimension\n",
    "plotBCDhist(df=AuPdPtDF, figNameAppend='TNP', splitFeat='Elements', titleName='Elements', xLims=(2.00, 2.65), threshLines=True)\n",
    "\n",
    "# Statistics\n",
    "sigDiffTNPDF = compareRoughSmoothStats(df=AuPdPtDF)\n",
    "sigDiffTNPDF"
   ]
  },
  {
   "cell_type": "code",
   "execution_count": null,
   "id": "ccc32ae7-e2c4-4201-887f-551d67fde760",
   "metadata": {},
   "outputs": [],
   "source": [
    "# Group features\n",
    "processFeats = ['T', 'P']\n",
    "npStatsFeats = ['N_atom_total', 'N_atom_bulk', 'N_atom_surface', 'Vol_bulk_pack', 'Vol_sphere', \n",
    "                'N_bond', 'N_Au', 'N_Pd', 'N_Pt', 'AuAu_frac', 'AuPd_frac', 'AuPt_frac', 'PdPd_frac', 'PdPt_frac', 'PtPt_frac',\n",
    "                'R_min', 'R_max', 'R_diff', 'R_avg', 'R_std', 'R_skew', 'R_kurt', 'D_avg']\n",
    "facetFeats = ['S_100', 'S_111', 'S_110', 'S_311', 'Frac_S_100', 'Frac_S_111', 'Frac_S_110', 'Frac_S_311']\n",
    "curvFeats = [feat for feat in AuPdPtDF.columns if 'Curve' in feat]\n",
    "tcnFeats = [feat for feat in AuPdPtDF.columns if 'MM_TCN' in feat or 'MM_TGCN' in feat]\n",
    "bcnFeats = [feat for feat in AuPdPtDF.columns if 'MM_BCN' in feat or 'MM_BGCN' in feat]\n",
    "scnFeats = [feat for feat in AuPdPtDF.columns if 'MM_SCN' in feat or 'MM_SGCN' in feat or 'MM_SOCN' in feat or 'MM_SOGCN' in feat]\n",
    "blFeats = [feat for feat in AuPdPtDF.columns if 'MM_BL' in feat]\n",
    "baFeats = [feat for feat in AuPdPtDF.columns if 'MMM_BA' in feat]\n",
    "btFeats = [feat for feat in AuPdPtDF.columns if 'MMMM_BT' in feat]\n",
    "crysFeats = ['FCC', 'HCP', 'ICOS', 'DECA', 'Frac_FCC', 'Frac_HCP', 'Frac_ICOS', 'Frac_DECA']\n",
    "q6q6tFeats = [feat for feat in AuPdPtDF.columns if 'q6q6_T' in feat]\n",
    "q6q6bFeats = [feat for feat in AuPdPtDF.columns if 'q6q6_B' in feat]\n",
    "q6q6sFeats = [feat for feat in AuPdPtDF.columns if 'q6q6_S' in feat]"
   ]
  },
  {
   "cell_type": "code",
   "execution_count": null,
   "id": "71ea2c8c-e3aa-48c8-8b62-cb92384bce37",
   "metadata": {
    "jupyter": {
     "source_hidden": true
    },
    "scrolled": true
   },
   "outputs": [],
   "source": [
    "# Correlations between box-counting dimension and features\n",
    "plotFeatsBCDcorr(df=AuPdPtDF, feats=processFeats, figNameAppend='TNP', titleName='Elements', showPlot=True)\n",
    "plotFeatsBCDcorr(df=AuPdPtDF, feats=npStatsFeats, figNameAppend='TNP', titleName='Elements', showPlot=True)\n",
    "plotFeatsBCDcorr(df=AuPdPtDF, feats=facetFeats, figNameAppend='TNP', titleName='Elements', showPlot=True)\n",
    "plotFeatsBCDcorr(df=AuPdPtDF, feats=curvFeats, figNameAppend='TNP', titleName='Elements', showPlot=True)\n",
    "plotFeatsBCDcorr(df=AuPdPtDF, feats=tcnFeats, figNameAppend='TNP', titleName='Elements', showPlot=True)\n",
    "plotFeatsBCDcorr(df=AuPdPtDF, feats=bcnFeats, figNameAppend='TNP', titleName='Elements', showPlot=True)\n",
    "plotFeatsBCDcorr(df=AuPdPtDF, feats=scnFeats, figNameAppend='TNP', titleName='Elements', showPlot=True)\n",
    "plotFeatsBCDcorr(df=AuPdPtDF, feats=blFeats, figNameAppend='TNP', titleName='Elements', showPlot=True)\n",
    "plotFeatsBCDcorr(df=AuPdPtDF, feats=baFeats, figNameAppend='TNP', titleName='Elements', showPlot=True)\n",
    "plotFeatsBCDcorr(df=AuPdPtDF, feats=btFeats, figNameAppend='TNP', titleName='Elements', showPlot=True)\n",
    "plotFeatsBCDcorr(df=AuPdPtDF, feats=crysFeats, figNameAppend='TNP', titleName='Elements', showPlot=True)\n",
    "plotFeatsBCDcorr(df=AuPdPtDF, feats=q6q6tFeats, figNameAppend='TNP', titleName='Elements', showPlot=True)\n",
    "plotFeatsBCDcorr(df=AuPdPtDF, feats=q6q6bFeats, figNameAppend='TNP', titleName='Elements', showPlot=True)\n",
    "plotFeatsBCDcorr(df=AuPdPtDF, feats=q6q6sFeats, figNameAppend='TNP', titleName='Elements', showPlot=True)"
   ]
  },
  {
   "cell_type": "code",
   "execution_count": null,
   "id": "1cd3b46a-2adb-44a9-aa51-a0a6fff678ba",
   "metadata": {
    "jupyter": {
     "source_hidden": true
    },
    "scrolled": true
   },
   "outputs": [],
   "source": [
    "# Calculate the number of hypotheses for Bonferroni correction\n",
    "feats = processFeats + npStatsFeats + facetFeats + curvFeats + tcnFeats + bcnFeats + scnFeats + blFeats + baFeats + btFeats + crysFeats + q6q6tFeats + q6q6bFeats + q6q6sFeats\n",
    "splitFeat = 'Elements'\n",
    "numHypothesis = countNumHypothesis(df=AuPdPtDF, feats=feats, splitFeat=splitFeat)"
   ]
  },
  {
   "cell_type": "code",
   "execution_count": null,
   "id": "f33bcc0e-ca34-4fa9-96f9-ef9a424c8c48",
   "metadata": {
    "jupyter": {
     "source_hidden": true
    },
    "scrolled": true
   },
   "outputs": [],
   "source": [
    "mis = calcMIs(df=AuPdPtDF, feats=processFeats, splitFeat='Elements', numHypothesis=numHypothesis)\n",
    "mis = calcMIs(df=AuPdPtDF, feats=npStatsFeats, splitFeat='Elements', numHypothesis=numHypothesis)\n",
    "mis = calcMIs(df=AuPdPtDF, feats=facetFeats, splitFeat='Elements', numHypothesis=numHypothesis)\n",
    "mis = calcMIs(df=AuPdPtDF, feats=curvFeats, splitFeat='Elements', numHypothesis=numHypothesis)\n",
    "mis = calcMIs(df=AuPdPtDF, feats=tcnFeats, splitFeat='Elements', numHypothesis=numHypothesis)\n",
    "mis = calcMIs(df=AuPdPtDF, feats=bcnFeats, splitFeat='Elements', numHypothesis=numHypothesis)\n",
    "mis = calcMIs(df=AuPdPtDF, feats=scnFeats, splitFeat='Elements', numHypothesis=numHypothesis)\n",
    "mis = calcMIs(df=AuPdPtDF, feats=blFeats, splitFeat='Elements', numHypothesis=numHypothesis)\n",
    "mis = calcMIs(df=AuPdPtDF, feats=baFeats, splitFeat='Elements', numHypothesis=numHypothesis)\n",
    "mis = calcMIs(df=AuPdPtDF, feats=crysFeats, splitFeat='Elements', numHypothesis=numHypothesis)\n",
    "mis = calcMIs(df=AuPdPtDF, feats=q6q6tFeats, splitFeat='Elements', numHypothesis=numHypothesis)\n",
    "mis = calcMIs(df=AuPdPtDF, feats=q6q6bFeats, splitFeat='Elements', numHypothesis=numHypothesis)\n",
    "mis = calcMIs(df=AuPdPtDF, feats=q6q6sFeats, splitFeat='Elements', numHypothesis=numHypothesis)"
   ]
  },
  {
   "cell_type": "markdown",
   "id": "e40542a1-fbf8-4e96-9d55-b7f620abbf16",
   "metadata": {},
   "source": [
    "## All Nanoparticles"
   ]
  },
  {
   "cell_type": "code",
   "execution_count": null,
   "id": "e74cffb3-3976-474e-8626-9d6e7a915f76",
   "metadata": {
    "scrolled": true
   },
   "outputs": [],
   "source": [
    "# Create master dataframe\n",
    "MNPDF['typeNP'] = 'MNP'\n",
    "MNPDF['AuAu_frac'] = 0\n",
    "AuAu_fracSeries = MNPDF['AuAu_frac'].copy()\n",
    "AuAu_fracSeries[MNPDF['Elements'] == 'Au'] = MNPDF['N_atom_total'][MNPDF['Elements'] == 'Au']\n",
    "MNPDF['AuAu_frac'] = AuAu_fracSeries\n",
    "MNPDF['AuPd_frac'] = 0\n",
    "MNPDF['AuPt_frac'] = 0\n",
    "MNPDF['PdPd_frac'] = 0\n",
    "PdPd_fracSeries = MNPDF['PdPd_frac'].copy()\n",
    "PdPd_fracSeries[MNPDF['Elements'] == 'Pd'] = MNPDF['N_atom_total'][MNPDF['Elements'] == 'Pd']\n",
    "MNPDF['PdPd_frac'] = PdPd_fracSeries\n",
    "MNPDF['PdPt_frac'] = 0\n",
    "MNPDF['PtPt_frac'] = 0\n",
    "PtPt_fracSeries = MNPDF['PdPd_frac'].copy()\n",
    "PtPt_fracSeries[MNPDF['Elements'] == 'Pt'] = MNPDF['N_atom_total'][MNPDF['Elements'] == 'Pt']\n",
    "MNPDF['PtPt_frac'] = MNPDF['N_atom_total']\n",
    "MNPDF['PtPt_frac'] = PtPt_fracSeries\n",
    "\n",
    "BNPDF = BNPDF.rename({'Vol_bulk_pack': 'Volume'}, axis=1)\n",
    "BNPDF['typeNP'] = 'BNP'\n",
    "AuPdPtDF = AuPdPtDF.rename({'Vol_bulk_pack': 'Volume'}, axis=1)\n",
    "AuPdPtDF['typeNP'] = 'TNP'\n",
    "allNPDF = pd.concat([BNPDF, AuPdPtDF, MNPDF], axis=0)\n",
    "allNPDF = allNPDF.reset_index(inplace=False)\n",
    "allNPDF = allNPDF.drop(['index'], axis=1, inplace=False)\n",
    "# allNPDF = rmNullLowVarFeats(allNPDF, rmNull=True, varThresh=0.0, verbose=True)"
   ]
  },
  {
   "cell_type": "code",
   "execution_count": null,
   "id": "0a9d85fa-57bb-4375-89d6-1b7073cd42fd",
   "metadata": {
    "scrolled": true
   },
   "outputs": [],
   "source": [
    "# Comparison between the average radius of rough and smooth nanoparticles\n",
    "roughThresh = 2.45\n",
    "roughness = allNPDF['DBoxEX'].copy().rename('Roughness')\n",
    "roughness.loc[:] = np.nan\n",
    "roughness[allNPDF['DBoxEX'] > roughThresh] = '> 2.45'\n",
    "roughness[allNPDF['DBoxEX'] < roughThresh] = '< 2.45'\n",
    "roughness = pd.concat([allNPDF['D_avg'], roughness], axis=1)\n",
    "\n",
    "# Reminder to change the sns.move_legend() function under plotBCDhist() in corrAnalysis.py before running the next line\n",
    "plotBCDhist(df=roughness, figNameAppend='roughness', splitFeat='Roughness', titleName=r'$D_B$', \n",
    "            xFeat='D_avg', xLabel='Average diameter (nm)', xLims=None, threshLines=False)  # (2.00, 2.65)"
   ]
  },
  {
   "cell_type": "code",
   "execution_count": null,
   "id": "bbd3672d-c2e5-4587-80ce-24a301a4ff1c",
   "metadata": {},
   "outputs": [],
   "source": [
    "# Identification of the D_B values where the peaks of KDEs are\n",
    "df = roughness\n",
    "splitFeat = 'Roughness'\n",
    "xFeat = 'D_avg'\n",
    "\n",
    "hueOrder = ['BNP', 'TNP', 'MNP'] if splitFeat == 'typeNP' else sorted(df[splitFeat].unique())\n",
    "g = sns.displot(data=df, x=xFeat, y=None, hue=splitFeat, row=None, col=None,\n",
    "                weights=None, kind='kde', rug=False, rug_kws=None, log_scale=None, \n",
    "                legend=True, palette='deep', hue_order=hueOrder, hue_norm=None, color=None, col_wrap=None, \n",
    "                row_order=None, col_order=None, height=3, aspect=1.2, facet_kws=None, common_norm=False)\n",
    "plt.close()\n",
    "\n",
    "kdeSmooth = g.ax.get_children()[0].get_data()[1]\n",
    "dAvgMaxSmooth = g.ax.get_children()[0].get_data()[0][np.argmax(kdeSmooth)]\n",
    "kdeRough = g.ax.get_children()[1].get_data()[1]\n",
    "dAvgMaxRough = g.ax.get_children()[1].get_data()[0][np.argmax(kdeRough)]\n",
    "print(f\"Average diameters for nanoparticles with D_B\\n\\tbelow 2.45: {dAvgMaxSmooth:.3f} nm\\n\\tabove 2.45: {dAvgMaxRough:.3f} nm\")"
   ]
  },
  {
   "cell_type": "code",
   "execution_count": null,
   "id": "3edd3f27-56df-4a7a-9a0d-ba0eff56647b",
   "metadata": {
    "jupyter": {
     "source_hidden": true
    },
    "scrolled": true
   },
   "outputs": [],
   "source": [
    "# Distribution of box-counting dimension\n",
    "plotBCDhist(df=allNPDF.loc[:, ['DBoxEX', 'typeNP']], figNameAppend='allNP', splitFeat='typeNP', titleName='Type', xLims=None, threshLines=True)  # (2.00, 2.65)\n",
    "\n",
    "# Statistics\n",
    "sigDiffNPDF = compareRoughSmoothStats(df=allNPDF)\n",
    "sigDiffNPDF"
   ]
  },
  {
   "cell_type": "code",
   "execution_count": null,
   "id": "b6146877-177f-46f9-82ff-94afa0755f2e",
   "metadata": {},
   "outputs": [],
   "source": [
    "# Group features\n",
    "processFeats = ['T', 'P']\n",
    "npStatsFeats = ['N_atom_total', 'N_atom_bulk', 'N_atom_surface', 'Volume', 'Vol_sphere',\n",
    "                'N_Au', 'N_Pd', 'N_Pt', 'AuAu_frac', 'AuPd_frac', 'AuPt_frac', 'PdPd_frac', 'PdPt_frac', 'PtPt_frac',\n",
    "                'R_min', 'R_max', 'R_diff', 'R_avg', 'R_std', 'R_skew', 'R_kurt', 'D_avg']\n",
    "facetFeats = ['S_100', 'S_111', 'S_110', 'S_311', 'Frac_S_100', 'Frac_S_111', 'Frac_S_110', 'Frac_S_311']\n",
    "curvFeats = [feat for feat in allNPDF.columns if 'Curve' in feat]\n",
    "tcnFeats = [feat for feat in allNPDF.columns if 'MM_TCN' in feat or 'MM_TGCN' in feat]\n",
    "bcnFeats = [feat for feat in allNPDF.columns if 'MM_BCN' in feat or 'MM_BGCN' in feat]\n",
    "scnFeats = [feat for feat in allNPDF.columns if 'MM_SCN' in feat or 'MM_SGCN' in feat or 'MM_SOCN' in feat or 'MM_SOGCN' in feat]\n",
    "blFeats = [feat for feat in allNPDF.columns if 'MM_BL' in feat]\n",
    "baFeats = [feat for feat in allNPDF.columns if 'MMM_BA' in feat]\n",
    "btFeats = [feat for feat in allNPDF.columns if 'MMM_BT' in feat]\n",
    "crysFeats = ['FCC', 'HCP', 'ICOS', 'DECA', 'Frac_FCC', 'Frac_HCP', 'Frac_ICOS', 'Frac_DECA']\n",
    "q6q6tFeats = [feat for feat in allNPDF.columns if 'q6q6_T' in feat]\n",
    "q6q6bFeats = [feat for feat in allNPDF.columns if 'q6q6_B' in feat]\n",
    "q6q6sFeats = [feat for feat in allNPDF.columns if 'q6q6_S' in feat]"
   ]
  },
  {
   "cell_type": "code",
   "execution_count": null,
   "id": "2469c527-ba44-4733-a7a7-0d3abf582d77",
   "metadata": {
    "scrolled": true
   },
   "outputs": [],
   "source": [
    "# Correlations between box-counting dimension and features\n",
    "plotFeatsBCDcorr(df=allNPDF, feats=processFeats, figNameAppend='allNP', splitFeat='typeNP', titleName='Type', showPlot=True)\n",
    "plotFeatsBCDcorr(df=allNPDF, feats=npStatsFeats, figNameAppend='allNP', splitFeat='typeNP', titleName='Type', \n",
    "                 sciNotation=['N_atom_total', 'N_atom_bulk', 'N_atom_surface', 'Volume', 'N_Au', 'N_Pd', 'N_Pt'], showPlot=True)\n",
    "plotFeatsBCDcorr(df=allNPDF, feats=facetFeats, figNameAppend='allNP', splitFeat='typeNP', titleName='Type', \n",
    "                 sciNotation=['S_100', 'S_111', 'S_110', 'S_311'], showPlot=True)\n",
    "plotFeatsBCDcorr(df=allNPDF, feats=curvFeats, figNameAppend='allNP', splitFeat='typeNP', titleName='Type', \n",
    "                 sciNotation=curvFeats, showPlot=True)\n",
    "plotFeatsBCDcorr(df=allNPDF, feats=tcnFeats, figNameAppend='allNP', splitFeat='typeNP', titleName='Type', showPlot=True)\n",
    "plotFeatsBCDcorr(df=allNPDF, feats=bcnFeats, figNameAppend='allNP', splitFeat='typeNP', titleName='Type', showPlot=True)\n",
    "plotFeatsBCDcorr(df=allNPDF, feats=scnFeats, figNameAppend='allNP', splitFeat='typeNP', titleName='Type', showPlot=True)\n",
    "plotFeatsBCDcorr(df=allNPDF, feats=blFeats, figNameAppend='allNP', splitFeat='typeNP', titleName='Type', showPlot=True)\n",
    "plotFeatsBCDcorr(df=allNPDF, feats=baFeats, figNameAppend='allNP', splitFeat='typeNP', titleName='Type', showPlot=True)\n",
    "plotFeatsBCDcorr(df=allNPDF, feats=crysFeats, figNameAppend='allNP', splitFeat='typeNP', titleName='Type', \n",
    "                 sciNotation=['Frac_ICOS'], showPlot=True)\n",
    "plotFeatsBCDcorr(df=allNPDF, feats=q6q6tFeats, figNameAppend='allNP', splitFeat='typeNP', titleName='Type', showPlot=True)\n",
    "plotFeatsBCDcorr(df=allNPDF, feats=q6q6bFeats, figNameAppend='allNP', splitFeat='typeNP', titleName='Type', showPlot=True)\n",
    "plotFeatsBCDcorr(df=allNPDF, feats=q6q6sFeats, figNameAppend='allNP', splitFeat='typeNP', titleName='Type', showPlot=True)"
   ]
  },
  {
   "cell_type": "code",
   "execution_count": null,
   "id": "113b3cdf-aed1-478f-9a0f-b461aa117a99",
   "metadata": {
    "jupyter": {
     "source_hidden": true
    },
    "scrolled": true
   },
   "outputs": [],
   "source": [
    "# Calculate the number of hypotheses for Bonferroni correction\n",
    "feats = processFeats + npStatsFeats + facetFeats + curvFeats + tcnFeats + bcnFeats + scnFeats + blFeats + baFeats + btFeats + crysFeats + q6q6tFeats + q6q6bFeats + q6q6sFeats\n",
    "splitFeat = 'typeNP'\n",
    "numHypothesis = countNumHypothesis(df=allNPDF, feats=feats, splitFeat=splitFeat)"
   ]
  },
  {
   "cell_type": "code",
   "execution_count": null,
   "id": "ad520712-0b7d-4b64-9526-4361247e2d0f",
   "metadata": {
    "jupyter": {
     "source_hidden": true
    },
    "scrolled": true
   },
   "outputs": [],
   "source": [
    "mis = calcMIs(df=allNPDF, feats=processFeats, splitFeat='typeNP', numHypothesis=numHypothesis)\n",
    "mis = calcMIs(df=allNPDF, feats=npStatsFeats, splitFeat='typeNP', numHypothesis=numHypothesis)\n",
    "mis = calcMIs(df=allNPDF, feats=facetFeats, splitFeat='typeNP', numHypothesis=numHypothesis)\n",
    "mis = calcMIs(df=allNPDF, feats=curvFeats, splitFeat='typeNP', numHypothesis=numHypothesis)\n",
    "mis = calcMIs(df=allNPDF, feats=tcnFeats, splitFeat='typeNP', numHypothesis=numHypothesis)\n",
    "mis = calcMIs(df=allNPDF, feats=bcnFeats, splitFeat='typeNP', numHypothesis=numHypothesis)\n",
    "mis = calcMIs(df=allNPDF, feats=scnFeats, splitFeat='typeNP', numHypothesis=numHypothesis)\n",
    "mis = calcMIs(df=allNPDF, feats=blFeats, splitFeat='typeNP', numHypothesis=numHypothesis)\n",
    "mis = calcMIs(df=allNPDF, feats=baFeats, splitFeat='typeNP', numHypothesis=numHypothesis)\n",
    "mis = calcMIs(df=allNPDF, feats=crysFeats, splitFeat='typeNP', numHypothesis=numHypothesis)\n",
    "mis = calcMIs(df=allNPDF, feats=q6q6tFeats, splitFeat='typeNP', numHypothesis=numHypothesis)\n",
    "mis = calcMIs(df=allNPDF, feats=q6q6bFeats, splitFeat='typeNP', numHypothesis=numHypothesis)\n",
    "mis = calcMIs(df=allNPDF, feats=q6q6sFeats, splitFeat='typeNP', numHypothesis=numHypothesis)"
   ]
  }
 ],
 "metadata": {
  "kernelspec": {
   "display_name": "Python 3 (ipykernel)",
   "language": "python",
   "name": "python3"
  },
  "language_info": {
   "codemirror_mode": {
    "name": "ipython",
    "version": 3
   },
   "file_extension": ".py",
   "mimetype": "text/x-python",
   "name": "python",
   "nbconvert_exporter": "python",
   "pygments_lexer": "ipython3",
   "version": "3.11.7"
  }
 },
 "nbformat": 4,
 "nbformat_minor": 5
}
